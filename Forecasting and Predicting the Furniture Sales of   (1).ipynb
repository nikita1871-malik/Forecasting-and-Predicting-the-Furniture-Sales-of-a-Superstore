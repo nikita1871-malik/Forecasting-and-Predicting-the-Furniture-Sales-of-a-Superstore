{
 "cells": [
  {
   "cell_type": "markdown",
   "metadata": {
    "colab_type": "text",
    "id": "481doCWC2fFV"
   },
   "source": [
    "# Forecasting and Predicting the Furniture Sales of a Superstore\n",
    "\n",
    "We are using Superstore sales data for furniture sales between 2014 to 2017 and apply a simple model to forecast for 2018"
   ]
  },
  {
   "cell_type": "markdown",
   "metadata": {
    "colab_type": "text",
    "id": "eeMyhPNw2fFc"
   },
   "source": [
    "## Content\n",
    "\n",
    "1. **[Import packages](#import_packages)**\n",
    "2. **[Load data](#load_data)**\n",
    "3. **[Data preparation](#data_preparation)**\n",
    "    - 3.1 - [Dimensions of Dataset](#data_dimension)\n",
    "    - 3.2 - [Statistical Summary](#Stat_sum)\n",
    "    - 3.3 - [Checking Data Type and Missing Values](#check_data_type)\n",
    "4. **[Visualizing Furniture Sales Time Series Data](#exploratory_data_analysis)**\n",
    "    - 4.1 - [Checking Stationarity](#Checking_Stationarity)\n",
    "    - 4.2 - [Decomposing](#Decomposing)\n",
    "5. **[Forecasting](#Forecasting)**\n",
    "    - 5.1 - [Time Series Forecasting using ARIMA](#Time_Series_Forcasting_using_ARIMA)\n",
    "    - 5.2 - [Parameter Selection](#Parameter_Selection)\n",
    "    - 5.3 - [Fitting the ARIMA model](#Fitting_the_ARIMA)\n",
    "    - 5.4 - [Validating Forecasts](#Validating_Forecasts)\n",
    "    - 5.5 - [Visualizing the Forecast](#Visualizing_the_Forecast)"
   ]
  },
  {
   "cell_type": "markdown",
   "metadata": {
    "colab_type": "text",
    "id": "lrpRcPrY2fFf"
   },
   "source": [
    "<a id='import_packages'></a>\n",
    "# Import Packages"
   ]
  },
  {
   "cell_type": "code",
   "execution_count": 2,
   "metadata": {
    "colab": {},
    "colab_type": "code",
    "id": "veyjEU9f2fFl"
   },
   "outputs": [],
   "source": [
    "import warnings\n",
    "import itertools\n",
    "import numpy as np\n",
    "import matplotlib.pyplot as plt\n",
    "warnings.filterwarnings(\"ignore\")\n",
    "plt.style.use('fivethirtyeight')\n",
    "import pandas as pd\n",
    "import statsmodels.api as sm\n",
    "import matplotlib\n",
    "matplotlib.rcParams['axes.labelsize'] = 14\n",
    "matplotlib.rcParams['xtick.labelsize'] = 12\n",
    "matplotlib.rcParams['ytick.labelsize'] = 12\n",
    "matplotlib.rcParams['text.color'] = 'k'"
   ]
  },
  {
   "cell_type": "markdown",
   "metadata": {
    "colab_type": "text",
    "id": "PdH5BJ0D2fFz"
   },
   "source": [
    "<a id='load_data'></a>\n",
    "# Load Data"
   ]
  },
  {
   "cell_type": "code",
   "execution_count": null,
   "metadata": {},
   "outputs": [],
   "source": []
  },
  {
   "cell_type": "code",
   "execution_count": 3,
   "metadata": {
    "colab": {},
    "colab_type": "code",
    "id": "ubnEmstc2fF1",
    "outputId": "0999c414-0a51-4e7d-c7f7-6533dd19c80e"
   },
   "outputs": [
    {
     "data": {
      "text/html": [
       "<div>\n",
       "<style scoped>\n",
       "    .dataframe tbody tr th:only-of-type {\n",
       "        vertical-align: middle;\n",
       "    }\n",
       "\n",
       "    .dataframe tbody tr th {\n",
       "        vertical-align: top;\n",
       "    }\n",
       "\n",
       "    .dataframe thead th {\n",
       "        text-align: right;\n",
       "    }\n",
       "</style>\n",
       "<table border=\"1\" class=\"dataframe\">\n",
       "  <thead>\n",
       "    <tr style=\"text-align: right;\">\n",
       "      <th></th>\n",
       "      <th>Row ID</th>\n",
       "      <th>Order ID</th>\n",
       "      <th>Order Date</th>\n",
       "      <th>Ship Date</th>\n",
       "      <th>Ship Mode</th>\n",
       "      <th>Customer ID</th>\n",
       "      <th>Customer Name</th>\n",
       "      <th>Segment</th>\n",
       "      <th>Country</th>\n",
       "      <th>City</th>\n",
       "      <th>...</th>\n",
       "      <th>Postal Code</th>\n",
       "      <th>Region</th>\n",
       "      <th>Product ID</th>\n",
       "      <th>Category</th>\n",
       "      <th>Sub-Category</th>\n",
       "      <th>Product Name</th>\n",
       "      <th>Sales</th>\n",
       "      <th>Quantity</th>\n",
       "      <th>Discount</th>\n",
       "      <th>Profit</th>\n",
       "    </tr>\n",
       "  </thead>\n",
       "  <tbody>\n",
       "    <tr>\n",
       "      <th>0</th>\n",
       "      <td>1</td>\n",
       "      <td>CA-2016-152156</td>\n",
       "      <td>11/8/2016</td>\n",
       "      <td>11/11/2016</td>\n",
       "      <td>Second Class</td>\n",
       "      <td>CG-12520</td>\n",
       "      <td>Claire Gute</td>\n",
       "      <td>Consumer</td>\n",
       "      <td>United States</td>\n",
       "      <td>Henderson</td>\n",
       "      <td>...</td>\n",
       "      <td>42420</td>\n",
       "      <td>South</td>\n",
       "      <td>FUR-BO-10001798</td>\n",
       "      <td>Furniture</td>\n",
       "      <td>Bookcases</td>\n",
       "      <td>Bush Somerset Collection Bookcase</td>\n",
       "      <td>261.9600</td>\n",
       "      <td>2</td>\n",
       "      <td>0.00</td>\n",
       "      <td>41.9136</td>\n",
       "    </tr>\n",
       "    <tr>\n",
       "      <th>1</th>\n",
       "      <td>2</td>\n",
       "      <td>CA-2016-152156</td>\n",
       "      <td>11/8/2016</td>\n",
       "      <td>11/11/2016</td>\n",
       "      <td>Second Class</td>\n",
       "      <td>CG-12520</td>\n",
       "      <td>Claire Gute</td>\n",
       "      <td>Consumer</td>\n",
       "      <td>United States</td>\n",
       "      <td>Henderson</td>\n",
       "      <td>...</td>\n",
       "      <td>42420</td>\n",
       "      <td>South</td>\n",
       "      <td>FUR-CH-10000454</td>\n",
       "      <td>Furniture</td>\n",
       "      <td>Chairs</td>\n",
       "      <td>Hon Deluxe Fabric Upholstered Stacking Chairs,...</td>\n",
       "      <td>731.9400</td>\n",
       "      <td>3</td>\n",
       "      <td>0.00</td>\n",
       "      <td>219.5820</td>\n",
       "    </tr>\n",
       "    <tr>\n",
       "      <th>2</th>\n",
       "      <td>4</td>\n",
       "      <td>US-2015-108966</td>\n",
       "      <td>10/11/2015</td>\n",
       "      <td>10/18/2015</td>\n",
       "      <td>Standard Class</td>\n",
       "      <td>SO-20335</td>\n",
       "      <td>Sean O'Donnell</td>\n",
       "      <td>Consumer</td>\n",
       "      <td>United States</td>\n",
       "      <td>Fort Lauderdale</td>\n",
       "      <td>...</td>\n",
       "      <td>33311</td>\n",
       "      <td>South</td>\n",
       "      <td>FUR-TA-10000577</td>\n",
       "      <td>Furniture</td>\n",
       "      <td>Tables</td>\n",
       "      <td>Bretford CR4500 Series Slim Rectangular Table</td>\n",
       "      <td>957.5775</td>\n",
       "      <td>5</td>\n",
       "      <td>0.45</td>\n",
       "      <td>-383.0310</td>\n",
       "    </tr>\n",
       "    <tr>\n",
       "      <th>3</th>\n",
       "      <td>6</td>\n",
       "      <td>CA-2014-115812</td>\n",
       "      <td>6/9/2014</td>\n",
       "      <td>6/14/2014</td>\n",
       "      <td>Standard Class</td>\n",
       "      <td>BH-11710</td>\n",
       "      <td>Brosina Hoffman</td>\n",
       "      <td>Consumer</td>\n",
       "      <td>United States</td>\n",
       "      <td>Los Angeles</td>\n",
       "      <td>...</td>\n",
       "      <td>90032</td>\n",
       "      <td>West</td>\n",
       "      <td>FUR-FU-10001487</td>\n",
       "      <td>Furniture</td>\n",
       "      <td>Furnishings</td>\n",
       "      <td>Eldon Expressions Wood and Plastic Desk Access...</td>\n",
       "      <td>48.8600</td>\n",
       "      <td>7</td>\n",
       "      <td>0.00</td>\n",
       "      <td>14.1694</td>\n",
       "    </tr>\n",
       "    <tr>\n",
       "      <th>4</th>\n",
       "      <td>11</td>\n",
       "      <td>CA-2014-115812</td>\n",
       "      <td>6/9/2014</td>\n",
       "      <td>6/14/2014</td>\n",
       "      <td>Standard Class</td>\n",
       "      <td>BH-11710</td>\n",
       "      <td>Brosina Hoffman</td>\n",
       "      <td>Consumer</td>\n",
       "      <td>United States</td>\n",
       "      <td>Los Angeles</td>\n",
       "      <td>...</td>\n",
       "      <td>90032</td>\n",
       "      <td>West</td>\n",
       "      <td>FUR-TA-10001539</td>\n",
       "      <td>Furniture</td>\n",
       "      <td>Tables</td>\n",
       "      <td>Chromcraft Rectangular Conference Tables</td>\n",
       "      <td>1706.1840</td>\n",
       "      <td>9</td>\n",
       "      <td>0.20</td>\n",
       "      <td>85.3092</td>\n",
       "    </tr>\n",
       "  </tbody>\n",
       "</table>\n",
       "<p>5 rows × 21 columns</p>\n",
       "</div>"
      ],
      "text/plain": [
       "   Row ID        Order ID  Order Date   Ship Date       Ship Mode Customer ID  \\\n",
       "0       1  CA-2016-152156   11/8/2016  11/11/2016    Second Class    CG-12520   \n",
       "1       2  CA-2016-152156   11/8/2016  11/11/2016    Second Class    CG-12520   \n",
       "2       4  US-2015-108966  10/11/2015  10/18/2015  Standard Class    SO-20335   \n",
       "3       6  CA-2014-115812    6/9/2014   6/14/2014  Standard Class    BH-11710   \n",
       "4      11  CA-2014-115812    6/9/2014   6/14/2014  Standard Class    BH-11710   \n",
       "\n",
       "     Customer Name   Segment        Country             City  ... Postal Code  \\\n",
       "0      Claire Gute  Consumer  United States        Henderson  ...       42420   \n",
       "1      Claire Gute  Consumer  United States        Henderson  ...       42420   \n",
       "2   Sean O'Donnell  Consumer  United States  Fort Lauderdale  ...       33311   \n",
       "3  Brosina Hoffman  Consumer  United States      Los Angeles  ...       90032   \n",
       "4  Brosina Hoffman  Consumer  United States      Los Angeles  ...       90032   \n",
       "\n",
       "   Region       Product ID   Category Sub-Category  \\\n",
       "0   South  FUR-BO-10001798  Furniture    Bookcases   \n",
       "1   South  FUR-CH-10000454  Furniture       Chairs   \n",
       "2   South  FUR-TA-10000577  Furniture       Tables   \n",
       "3    West  FUR-FU-10001487  Furniture  Furnishings   \n",
       "4    West  FUR-TA-10001539  Furniture       Tables   \n",
       "\n",
       "                                        Product Name      Sales  Quantity  \\\n",
       "0                  Bush Somerset Collection Bookcase   261.9600         2   \n",
       "1  Hon Deluxe Fabric Upholstered Stacking Chairs,...   731.9400         3   \n",
       "2      Bretford CR4500 Series Slim Rectangular Table   957.5775         5   \n",
       "3  Eldon Expressions Wood and Plastic Desk Access...    48.8600         7   \n",
       "4           Chromcraft Rectangular Conference Tables  1706.1840         9   \n",
       "\n",
       "   Discount    Profit  \n",
       "0      0.00   41.9136  \n",
       "1      0.00  219.5820  \n",
       "2      0.45 -383.0310  \n",
       "3      0.00   14.1694  \n",
       "4      0.20   85.3092  \n",
       "\n",
       "[5 rows x 21 columns]"
      ]
     },
     "execution_count": 3,
     "metadata": {},
     "output_type": "execute_result"
    }
   ],
   "source": [
    "import sys\n",
    "import types\n",
    "import pandas as pd\n",
    "import os\n",
    "# from botocore.client import Config\n",
    "# import ibm_boto3\n",
    "\n",
    "# def __iter__(self): return 0\n",
    "\n",
    "# # @hidden_cell\n",
    "# # The following code accesses a file in your IBM Cloud Object Storage. It includes your credentials.\n",
    "# # You might want to remove those credentials before you share your notebook.\n",
    "# client_db221c9083da49bda597e7df5fb8517c = ibm_boto3.client(service_name='s3',\n",
    "#     ibm_api_key_id='ztvuwmXsgiz2MMSqWErcIYDe0fm2k9Qx08YFU4asfx-P',\n",
    "#     ibm_auth_endpoint=\"https://iam.eu-gb.bluemix.net/oidc/token\",\n",
    "#     config=Config(signature_version='oauth'),\n",
    "#     endpoint_url='https://s3.eu-geo.objectstorage.service.networklayer.com')\n",
    "\n",
    "# body = client_db221c9083da49bda597e7df5fb8517c.get_object(Bucket='timeseries-donotdelete-pr-jsyogp3niusggu',Key='Super Store.csv')['Body']\n",
    "# # add missing __iter__ method, so pandas accepts body as file-like object\n",
    "# if not hasattr(body, \"__iter__\"): body.__iter__ = types.MethodType( __iter__, body )\n",
    "\n",
    "\n",
    "\n",
    "furniture = pd.read_csv(r\"C:\\Users\\Nikita\\Downloads\\Super_Store.csv\", encoding='cp1252')\n",
    "furniture.head()"
   ]
  },
  {
   "cell_type": "markdown",
   "metadata": {
    "colab_type": "text",
    "id": "d2XZR_bk2fGE"
   },
   "source": [
    "<a id='data_preparation'></a>\n",
    "# Data Preparation"
   ]
  },
  {
   "cell_type": "markdown",
   "metadata": {
    "colab_type": "text",
    "id": "ZqX3Awnt2fGH"
   },
   "source": [
    "<a id='data_dimension'></a>\n",
    "# 3.1 Dimensions of Dataset\n",
    "We get a quick idea of how many instances (rows) and how many attributes (columns) the data contains with the shape property."
   ]
  },
  {
   "cell_type": "code",
   "execution_count": 6,
   "metadata": {
    "colab": {},
    "colab_type": "code",
    "id": "D8EcGqsL2fGI",
    "outputId": "9629c76c-bc15-42d6-cbae-ba0632e98865"
   },
   "outputs": [
    {
     "data": {
      "text/plain": [
       "(2121, 21)"
      ]
     },
     "execution_count": 6,
     "metadata": {},
     "output_type": "execute_result"
    }
   ],
   "source": [
    "# Checking structure of the data\n",
    "furniture.shape"
   ]
  },
  {
   "cell_type": "markdown",
   "metadata": {
    "colab_type": "text",
    "id": "HiDASlny2fGV"
   },
   "source": [
    "<a id='Stat_sum'></a>\n",
    "# 3.2 Statistical Summary\n",
    "Here we take a look at the summary of each attribute.\n",
    "\n",
    "This includes the count, mean, the min and max values as well as percentiles."
   ]
  },
  {
   "cell_type": "code",
   "execution_count": 7,
   "metadata": {},
   "outputs": [
    {
     "data": {
      "text/plain": [
       "Index(['Row ID', 'Order ID', 'Order Date', 'Ship Date', 'Ship Mode',\n",
       "       'Customer ID', 'Customer Name', 'Segment', 'Country', 'City', 'State',\n",
       "       'Postal Code', 'Region', 'Product ID', 'Category', 'Sub-Category',\n",
       "       'Product Name', 'Sales', 'Quantity', 'Discount', 'Profit'],\n",
       "      dtype='object')"
      ]
     },
     "execution_count": 7,
     "metadata": {},
     "output_type": "execute_result"
    }
   ],
   "source": [
    "furniture.columns"
   ]
  },
  {
   "cell_type": "code",
   "execution_count": 8,
   "metadata": {
    "colab": {},
    "colab_type": "code",
    "id": "1Mh3z2yk2fGZ",
    "outputId": "2b2ffd4f-61a1-4834-a4ae-70c4e779d542"
   },
   "outputs": [
    {
     "data": {
      "text/html": [
       "<div>\n",
       "<style scoped>\n",
       "    .dataframe tbody tr th:only-of-type {\n",
       "        vertical-align: middle;\n",
       "    }\n",
       "\n",
       "    .dataframe tbody tr th {\n",
       "        vertical-align: top;\n",
       "    }\n",
       "\n",
       "    .dataframe thead th {\n",
       "        text-align: right;\n",
       "    }\n",
       "</style>\n",
       "<table border=\"1\" class=\"dataframe\">\n",
       "  <thead>\n",
       "    <tr style=\"text-align: right;\">\n",
       "      <th></th>\n",
       "      <th>Row ID</th>\n",
       "      <th>Postal Code</th>\n",
       "      <th>Sales</th>\n",
       "      <th>Quantity</th>\n",
       "      <th>Discount</th>\n",
       "      <th>Profit</th>\n",
       "    </tr>\n",
       "  </thead>\n",
       "  <tbody>\n",
       "    <tr>\n",
       "      <th>count</th>\n",
       "      <td>2121.000000</td>\n",
       "      <td>2121.000000</td>\n",
       "      <td>2121.000000</td>\n",
       "      <td>2121.000000</td>\n",
       "      <td>2121.000000</td>\n",
       "      <td>2121.000000</td>\n",
       "    </tr>\n",
       "    <tr>\n",
       "      <th>mean</th>\n",
       "      <td>5041.643564</td>\n",
       "      <td>55726.556341</td>\n",
       "      <td>349.834887</td>\n",
       "      <td>3.785007</td>\n",
       "      <td>0.173923</td>\n",
       "      <td>8.699327</td>\n",
       "    </tr>\n",
       "    <tr>\n",
       "      <th>std</th>\n",
       "      <td>2885.740258</td>\n",
       "      <td>32261.888225</td>\n",
       "      <td>503.179145</td>\n",
       "      <td>2.251620</td>\n",
       "      <td>0.181547</td>\n",
       "      <td>136.049246</td>\n",
       "    </tr>\n",
       "    <tr>\n",
       "      <th>min</th>\n",
       "      <td>1.000000</td>\n",
       "      <td>1040.000000</td>\n",
       "      <td>1.892000</td>\n",
       "      <td>1.000000</td>\n",
       "      <td>0.000000</td>\n",
       "      <td>-1862.312400</td>\n",
       "    </tr>\n",
       "    <tr>\n",
       "      <th>25%</th>\n",
       "      <td>2568.000000</td>\n",
       "      <td>22801.000000</td>\n",
       "      <td>47.040000</td>\n",
       "      <td>2.000000</td>\n",
       "      <td>0.000000</td>\n",
       "      <td>-12.849000</td>\n",
       "    </tr>\n",
       "    <tr>\n",
       "      <th>50%</th>\n",
       "      <td>5145.000000</td>\n",
       "      <td>60505.000000</td>\n",
       "      <td>182.220000</td>\n",
       "      <td>3.000000</td>\n",
       "      <td>0.200000</td>\n",
       "      <td>7.774800</td>\n",
       "    </tr>\n",
       "    <tr>\n",
       "      <th>75%</th>\n",
       "      <td>7534.000000</td>\n",
       "      <td>90032.000000</td>\n",
       "      <td>435.168000</td>\n",
       "      <td>5.000000</td>\n",
       "      <td>0.300000</td>\n",
       "      <td>33.726600</td>\n",
       "    </tr>\n",
       "    <tr>\n",
       "      <th>max</th>\n",
       "      <td>9991.000000</td>\n",
       "      <td>99301.000000</td>\n",
       "      <td>4416.174000</td>\n",
       "      <td>14.000000</td>\n",
       "      <td>0.700000</td>\n",
       "      <td>1013.127000</td>\n",
       "    </tr>\n",
       "  </tbody>\n",
       "</table>\n",
       "</div>"
      ],
      "text/plain": [
       "            Row ID   Postal Code        Sales     Quantity     Discount  \\\n",
       "count  2121.000000   2121.000000  2121.000000  2121.000000  2121.000000   \n",
       "mean   5041.643564  55726.556341   349.834887     3.785007     0.173923   \n",
       "std    2885.740258  32261.888225   503.179145     2.251620     0.181547   \n",
       "min       1.000000   1040.000000     1.892000     1.000000     0.000000   \n",
       "25%    2568.000000  22801.000000    47.040000     2.000000     0.000000   \n",
       "50%    5145.000000  60505.000000   182.220000     3.000000     0.200000   \n",
       "75%    7534.000000  90032.000000   435.168000     5.000000     0.300000   \n",
       "max    9991.000000  99301.000000  4416.174000    14.000000     0.700000   \n",
       "\n",
       "            Profit  \n",
       "count  2121.000000  \n",
       "mean      8.699327  \n",
       "std     136.049246  \n",
       "min   -1862.312400  \n",
       "25%     -12.849000  \n",
       "50%       7.774800  \n",
       "75%      33.726600  \n",
       "max    1013.127000  "
      ]
     },
     "execution_count": 8,
     "metadata": {},
     "output_type": "execute_result"
    }
   ],
   "source": [
    "furniture.describe()"
   ]
  },
  {
   "cell_type": "markdown",
   "metadata": {
    "colab_type": "text",
    "id": "_1OiJyzj2fGk"
   },
   "source": [
    "<a id='check_data_type'></a>\n",
    "## 3.3 Checking Data Type and Missing Values "
   ]
  },
  {
   "cell_type": "code",
   "execution_count": 9,
   "metadata": {
    "colab": {},
    "colab_type": "code",
    "id": "YVMD5j6m2fGm",
    "outputId": "cbc3e6a3-4ccc-4738-fd5f-31050b841152"
   },
   "outputs": [
    {
     "name": "stdout",
     "output_type": "stream",
     "text": [
      "<class 'pandas.core.frame.DataFrame'>\n",
      "RangeIndex: 2121 entries, 0 to 2120\n",
      "Data columns (total 21 columns):\n",
      " #   Column         Non-Null Count  Dtype  \n",
      "---  ------         --------------  -----  \n",
      " 0   Row ID         2121 non-null   int64  \n",
      " 1   Order ID       2121 non-null   object \n",
      " 2   Order Date     2121 non-null   object \n",
      " 3   Ship Date      2121 non-null   object \n",
      " 4   Ship Mode      2121 non-null   object \n",
      " 5   Customer ID    2121 non-null   object \n",
      " 6   Customer Name  2121 non-null   object \n",
      " 7   Segment        2121 non-null   object \n",
      " 8   Country        2121 non-null   object \n",
      " 9   City           2121 non-null   object \n",
      " 10  State          2121 non-null   object \n",
      " 11  Postal Code    2121 non-null   int64  \n",
      " 12  Region         2121 non-null   object \n",
      " 13  Product ID     2121 non-null   object \n",
      " 14  Category       2121 non-null   object \n",
      " 15  Sub-Category   2121 non-null   object \n",
      " 16  Product Name   2121 non-null   object \n",
      " 17  Sales          2121 non-null   float64\n",
      " 18  Quantity       2121 non-null   int64  \n",
      " 19  Discount       2121 non-null   float64\n",
      " 20  Profit         2121 non-null   float64\n",
      "dtypes: float64(3), int64(3), object(15)\n",
      "memory usage: 348.1+ KB\n"
     ]
    }
   ],
   "source": [
    "# summary of the data \n",
    "furniture.info()"
   ]
  },
  {
   "cell_type": "markdown",
   "metadata": {
    "colab_type": "text",
    "id": "pCPKMy622fGz"
   },
   "source": [
    "Checking the furniture sales time stamp"
   ]
  },
  {
   "cell_type": "code",
   "execution_count": 10,
   "metadata": {
    "colab": {},
    "colab_type": "code",
    "id": "_Bl5j0952fG2",
    "outputId": "4fe48911-ff14-4b8b-f8ab-0c80324b6e9c"
   },
   "outputs": [
    {
     "data": {
      "text/plain": [
       "('1/1/2017', '9/9/2017')"
      ]
     },
     "execution_count": 10,
     "metadata": {},
     "output_type": "execute_result"
    }
   ],
   "source": [
    "furniture['Order Date'].min(), furniture['Order Date'].max()"
   ]
  },
  {
   "cell_type": "markdown",
   "metadata": {
    "colab_type": "text",
    "id": "uMIqusgw2fHJ"
   },
   "source": [
    "We remove the columns that we do not need as well as check missing values"
   ]
  },
  {
   "cell_type": "code",
   "execution_count": 11,
   "metadata": {
    "colab": {},
    "colab_type": "code",
    "id": "_0kLMdko2fHL",
    "outputId": "f7514d8a-c1e1-4c9a-d43f-48e56000df51"
   },
   "outputs": [
    {
     "data": {
      "text/plain": [
       "Order Date    0\n",
       "Sales         0\n",
       "dtype: int64"
      ]
     },
     "execution_count": 11,
     "metadata": {},
     "output_type": "execute_result"
    }
   ],
   "source": [
    "cols = ['Row ID', 'Order ID', 'Ship Date', 'Ship Mode', 'Customer ID', 'Customer Name', 'Segment', 'Country', 'City', 'State', 'Postal Code', 'Region', 'Product ID', 'Category', 'Sub-Category', 'Product Name', 'Quantity', 'Discount', 'Profit']\n",
    "furniture.drop(cols, axis=1, inplace=True)\n",
    "furniture = furniture.sort_values('Order Date')\n",
    "furniture.isnull().sum()"
   ]
  },
  {
   "cell_type": "code",
   "execution_count": 13,
   "metadata": {},
   "outputs": [
    {
     "name": "stdout",
     "output_type": "stream",
     "text": [
      "<class 'pandas.core.frame.DataFrame'>\n",
      "Int64Index: 2121 entries, 845 to 964\n",
      "Data columns (total 2 columns):\n",
      " #   Column      Non-Null Count  Dtype  \n",
      "---  ------      --------------  -----  \n",
      " 0   Order Date  2121 non-null   object \n",
      " 1   Sales       2121 non-null   float64\n",
      "dtypes: float64(1), object(1)\n",
      "memory usage: 49.7+ KB\n"
     ]
    }
   ],
   "source": [
    "furniture.info()"
   ]
  },
  {
   "cell_type": "code",
   "execution_count": 15,
   "metadata": {},
   "outputs": [
    {
     "data": {
      "text/plain": [
       "9/5/2016      10\n",
       "10/30/2017     9\n",
       "12/1/2016      9\n",
       "11/19/2017     9\n",
       "12/25/2016     9\n",
       "              ..\n",
       "6/17/2017      1\n",
       "2/3/2017       1\n",
       "6/17/2014      1\n",
       "2/4/2016       1\n",
       "10/23/2016     1\n",
       "Name: Order Date, Length: 889, dtype: int64"
      ]
     },
     "execution_count": 15,
     "metadata": {},
     "output_type": "execute_result"
    }
   ],
   "source": [
    "furniture[\"Order Date\"].value_counts()"
   ]
  },
  {
   "cell_type": "code",
   "execution_count": 12,
   "metadata": {},
   "outputs": [
    {
     "data": {
      "text/html": [
       "<div>\n",
       "<style scoped>\n",
       "    .dataframe tbody tr th:only-of-type {\n",
       "        vertical-align: middle;\n",
       "    }\n",
       "\n",
       "    .dataframe tbody tr th {\n",
       "        vertical-align: top;\n",
       "    }\n",
       "\n",
       "    .dataframe thead th {\n",
       "        text-align: right;\n",
       "    }\n",
       "</style>\n",
       "<table border=\"1\" class=\"dataframe\">\n",
       "  <thead>\n",
       "    <tr style=\"text-align: right;\">\n",
       "      <th></th>\n",
       "      <th>Order Date</th>\n",
       "      <th>Sales</th>\n",
       "    </tr>\n",
       "  </thead>\n",
       "  <tbody>\n",
       "    <tr>\n",
       "      <th>845</th>\n",
       "      <td>1/1/2017</td>\n",
       "      <td>474.430</td>\n",
       "    </tr>\n",
       "    <tr>\n",
       "      <th>1707</th>\n",
       "      <td>1/1/2017</td>\n",
       "      <td>141.420</td>\n",
       "    </tr>\n",
       "    <tr>\n",
       "      <th>1708</th>\n",
       "      <td>1/1/2017</td>\n",
       "      <td>310.744</td>\n",
       "    </tr>\n",
       "    <tr>\n",
       "      <th>179</th>\n",
       "      <td>1/1/2017</td>\n",
       "      <td>48.896</td>\n",
       "    </tr>\n",
       "    <tr>\n",
       "      <th>181</th>\n",
       "      <td>1/10/2014</td>\n",
       "      <td>51.940</td>\n",
       "    </tr>\n",
       "  </tbody>\n",
       "</table>\n",
       "</div>"
      ],
      "text/plain": [
       "     Order Date    Sales\n",
       "845    1/1/2017  474.430\n",
       "1707   1/1/2017  141.420\n",
       "1708   1/1/2017  310.744\n",
       "179    1/1/2017   48.896\n",
       "181   1/10/2014   51.940"
      ]
     },
     "execution_count": 12,
     "metadata": {},
     "output_type": "execute_result"
    }
   ],
   "source": [
    "furniture.head()"
   ]
  },
  {
   "cell_type": "markdown",
   "metadata": {
    "colab_type": "text",
    "id": "NfhSVd2m2fHW"
   },
   "source": [
    "Aggregate sales data by date"
   ]
  },
  {
   "cell_type": "code",
   "execution_count": 16,
   "metadata": {
    "colab": {},
    "colab_type": "code",
    "id": "Z7vL8r302fHY"
   },
   "outputs": [
    {
     "data": {
      "text/html": [
       "<div>\n",
       "<style scoped>\n",
       "    .dataframe tbody tr th:only-of-type {\n",
       "        vertical-align: middle;\n",
       "    }\n",
       "\n",
       "    .dataframe tbody tr th {\n",
       "        vertical-align: top;\n",
       "    }\n",
       "\n",
       "    .dataframe thead th {\n",
       "        text-align: right;\n",
       "    }\n",
       "</style>\n",
       "<table border=\"1\" class=\"dataframe\">\n",
       "  <thead>\n",
       "    <tr style=\"text-align: right;\">\n",
       "      <th></th>\n",
       "      <th>Order Date</th>\n",
       "      <th>Sales</th>\n",
       "    </tr>\n",
       "  </thead>\n",
       "  <tbody>\n",
       "    <tr>\n",
       "      <th>0</th>\n",
       "      <td>1/1/2017</td>\n",
       "      <td>975.4900</td>\n",
       "    </tr>\n",
       "    <tr>\n",
       "      <th>1</th>\n",
       "      <td>1/10/2014</td>\n",
       "      <td>51.9400</td>\n",
       "    </tr>\n",
       "    <tr>\n",
       "      <th>2</th>\n",
       "      <td>1/10/2015</td>\n",
       "      <td>1018.1040</td>\n",
       "    </tr>\n",
       "    <tr>\n",
       "      <th>3</th>\n",
       "      <td>1/10/2016</td>\n",
       "      <td>104.7700</td>\n",
       "    </tr>\n",
       "    <tr>\n",
       "      <th>4</th>\n",
       "      <td>1/11/2014</td>\n",
       "      <td>9.9400</td>\n",
       "    </tr>\n",
       "    <tr>\n",
       "      <th>...</th>\n",
       "      <td>...</td>\n",
       "      <td>...</td>\n",
       "    </tr>\n",
       "    <tr>\n",
       "      <th>884</th>\n",
       "      <td>9/8/2016</td>\n",
       "      <td>3374.9816</td>\n",
       "    </tr>\n",
       "    <tr>\n",
       "      <th>885</th>\n",
       "      <td>9/8/2017</td>\n",
       "      <td>1000.2390</td>\n",
       "    </tr>\n",
       "    <tr>\n",
       "      <th>886</th>\n",
       "      <td>9/9/2014</td>\n",
       "      <td>864.0240</td>\n",
       "    </tr>\n",
       "    <tr>\n",
       "      <th>887</th>\n",
       "      <td>9/9/2016</td>\n",
       "      <td>15.0080</td>\n",
       "    </tr>\n",
       "    <tr>\n",
       "      <th>888</th>\n",
       "      <td>9/9/2017</td>\n",
       "      <td>482.5640</td>\n",
       "    </tr>\n",
       "  </tbody>\n",
       "</table>\n",
       "<p>889 rows × 2 columns</p>\n",
       "</div>"
      ],
      "text/plain": [
       "    Order Date      Sales\n",
       "0     1/1/2017   975.4900\n",
       "1    1/10/2014    51.9400\n",
       "2    1/10/2015  1018.1040\n",
       "3    1/10/2016   104.7700\n",
       "4    1/11/2014     9.9400\n",
       "..         ...        ...\n",
       "884   9/8/2016  3374.9816\n",
       "885   9/8/2017  1000.2390\n",
       "886   9/9/2014   864.0240\n",
       "887   9/9/2016    15.0080\n",
       "888   9/9/2017   482.5640\n",
       "\n",
       "[889 rows x 2 columns]"
      ]
     },
     "execution_count": 16,
     "metadata": {},
     "output_type": "execute_result"
    }
   ],
   "source": [
    "furniture = furniture.groupby('Order Date')['Sales'].sum().reset_index()\n",
    "furniture"
   ]
  },
  {
   "cell_type": "markdown",
   "metadata": {
    "colab_type": "text",
    "id": "4f21lcOV2fHh"
   },
   "source": [
    "Indexing with the Time Series Data"
   ]
  },
  {
   "cell_type": "code",
   "execution_count": 17,
   "metadata": {},
   "outputs": [
    {
     "data": {
      "text/plain": [
       "1/1/2017      1\n",
       "6/16/2014     1\n",
       "6/11/2017     1\n",
       "6/12/2015     1\n",
       "6/12/2016     1\n",
       "             ..\n",
       "12/28/2017    1\n",
       "12/29/2014    1\n",
       "12/29/2016    1\n",
       "12/29/2017    1\n",
       "9/9/2017      1\n",
       "Name: Order Date, Length: 889, dtype: int64"
      ]
     },
     "execution_count": 17,
     "metadata": {},
     "output_type": "execute_result"
    }
   ],
   "source": [
    "furniture[\"Order Date\"].value_counts()"
   ]
  },
  {
   "cell_type": "code",
   "execution_count": 18,
   "metadata": {
    "colab": {},
    "colab_type": "code",
    "id": "31YVsYb_2fHj",
    "outputId": "95e35416-6448-48ba-eabc-4181d9875b0a"
   },
   "outputs": [],
   "source": [
    "furniture['Order Date'] = pd.to_datetime(furniture['Order Date'])\n",
    "furniture.sort_values(by=\"Order Date\", inplace=True)"
   ]
  },
  {
   "cell_type": "code",
   "execution_count": 19,
   "metadata": {},
   "outputs": [
    {
     "data": {
      "text/plain": [
       "Timestamp('2014-01-06 00:00:00')"
      ]
     },
     "execution_count": 19,
     "metadata": {},
     "output_type": "execute_result"
    }
   ],
   "source": [
    "furniture[\"Order Date\"].min()  # year(2011)-month(11)-day(23)"
   ]
  },
  {
   "cell_type": "code",
   "execution_count": 20,
   "metadata": {},
   "outputs": [
    {
     "data": {
      "text/plain": [
       "Timestamp('2017-12-30 00:00:00')"
      ]
     },
     "execution_count": 20,
     "metadata": {},
     "output_type": "execute_result"
    }
   ],
   "source": [
    "furniture[\"Order Date\"].max()"
   ]
  },
  {
   "cell_type": "code",
   "execution_count": 21,
   "metadata": {},
   "outputs": [
    {
     "data": {
      "text/html": [
       "<div>\n",
       "<style scoped>\n",
       "    .dataframe tbody tr th:only-of-type {\n",
       "        vertical-align: middle;\n",
       "    }\n",
       "\n",
       "    .dataframe tbody tr th {\n",
       "        vertical-align: top;\n",
       "    }\n",
       "\n",
       "    .dataframe thead th {\n",
       "        text-align: right;\n",
       "    }\n",
       "</style>\n",
       "<table border=\"1\" class=\"dataframe\">\n",
       "  <thead>\n",
       "    <tr style=\"text-align: right;\">\n",
       "      <th></th>\n",
       "      <th>Order Date</th>\n",
       "      <th>Sales</th>\n",
       "    </tr>\n",
       "  </thead>\n",
       "  <tbody>\n",
       "    <tr>\n",
       "      <th>49</th>\n",
       "      <td>2014-01-06</td>\n",
       "      <td>2573.8200</td>\n",
       "    </tr>\n",
       "    <tr>\n",
       "      <th>50</th>\n",
       "      <td>2014-01-07</td>\n",
       "      <td>76.7280</td>\n",
       "    </tr>\n",
       "    <tr>\n",
       "      <th>1</th>\n",
       "      <td>2014-01-10</td>\n",
       "      <td>51.9400</td>\n",
       "    </tr>\n",
       "    <tr>\n",
       "      <th>4</th>\n",
       "      <td>2014-01-11</td>\n",
       "      <td>9.9400</td>\n",
       "    </tr>\n",
       "    <tr>\n",
       "      <th>7</th>\n",
       "      <td>2014-01-13</td>\n",
       "      <td>879.9390</td>\n",
       "    </tr>\n",
       "    <tr>\n",
       "      <th>...</th>\n",
       "      <td>...</td>\n",
       "      <td>...</td>\n",
       "    </tr>\n",
       "    <tr>\n",
       "      <th>290</th>\n",
       "      <td>2017-12-24</td>\n",
       "      <td>1393.4940</td>\n",
       "    </tr>\n",
       "    <tr>\n",
       "      <th>293</th>\n",
       "      <td>2017-12-25</td>\n",
       "      <td>832.4540</td>\n",
       "    </tr>\n",
       "    <tr>\n",
       "      <th>300</th>\n",
       "      <td>2017-12-28</td>\n",
       "      <td>551.2568</td>\n",
       "    </tr>\n",
       "    <tr>\n",
       "      <th>303</th>\n",
       "      <td>2017-12-29</td>\n",
       "      <td>2330.7180</td>\n",
       "    </tr>\n",
       "    <tr>\n",
       "      <th>309</th>\n",
       "      <td>2017-12-30</td>\n",
       "      <td>323.1360</td>\n",
       "    </tr>\n",
       "  </tbody>\n",
       "</table>\n",
       "<p>889 rows × 2 columns</p>\n",
       "</div>"
      ],
      "text/plain": [
       "    Order Date      Sales\n",
       "49  2014-01-06  2573.8200\n",
       "50  2014-01-07    76.7280\n",
       "1   2014-01-10    51.9400\n",
       "4   2014-01-11     9.9400\n",
       "7   2014-01-13   879.9390\n",
       "..         ...        ...\n",
       "290 2017-12-24  1393.4940\n",
       "293 2017-12-25   832.4540\n",
       "300 2017-12-28   551.2568\n",
       "303 2017-12-29  2330.7180\n",
       "309 2017-12-30   323.1360\n",
       "\n",
       "[889 rows x 2 columns]"
      ]
     },
     "execution_count": 21,
     "metadata": {},
     "output_type": "execute_result"
    }
   ],
   "source": [
    "furniture"
   ]
  },
  {
   "cell_type": "code",
   "execution_count": 22,
   "metadata": {},
   "outputs": [
    {
     "data": {
      "text/plain": [
       "DatetimeIndex(['2014-01-06', '2014-01-07', '2014-01-10', '2014-01-11',\n",
       "               '2014-01-13', '2014-01-14', '2014-01-16', '2014-01-19',\n",
       "               '2014-01-20', '2014-01-21',\n",
       "               ...\n",
       "               '2017-12-18', '2017-12-19', '2017-12-21', '2017-12-22',\n",
       "               '2017-12-23', '2017-12-24', '2017-12-25', '2017-12-28',\n",
       "               '2017-12-29', '2017-12-30'],\n",
       "              dtype='datetime64[ns]', name='Order Date', length=889, freq=None)"
      ]
     },
     "execution_count": 22,
     "metadata": {},
     "output_type": "execute_result"
    }
   ],
   "source": [
    "furniture.set_index('Order Date', inplace=True)\n",
    "furniture.index"
   ]
  },
  {
   "cell_type": "markdown",
   "metadata": {
    "colab_type": "text",
    "id": "IDXwPd0u2fHt"
   },
   "source": [
    "Resampling the datetime data. Here we use the start of each month as the timestamp and take the average daily sales value for a particular month since working with the current datetime data becomes tricky"
   ]
  },
  {
   "cell_type": "code",
   "execution_count": 25,
   "metadata": {},
   "outputs": [],
   "source": [
    "\n",
    "furniture.to_csv(\"df.csv\")"
   ]
  },
  {
   "cell_type": "code",
   "execution_count": 24,
   "metadata": {},
   "outputs": [
    {
     "data": {
      "text/plain": [
       "<AxesSubplot:xlabel='Order Date'>"
      ]
     },
     "execution_count": 24,
     "metadata": {},
     "output_type": "execute_result"
    },
    {
     "data": {
      "image/png": "[encoded data removed]",
      "text/plain": [
       "<Figure size 432x288 with 1 Axes>"
      ]
     },
     "metadata": {},
     "output_type": "display_data"
    }
   ],
   "source": [
    "furniture"
   ]
  },
  {
   "cell_type": "code",
   "execution_count": 26,
   "metadata": {
    "colab": {},
    "colab_type": "code",
    "id": "ShhlI-CQ2fH4"
   },
   "outputs": [],
   "source": [
    "y = furniture['Sales'].resample('MS').mean() "
   ]
  },
  {
   "cell_type": "code",
   "execution_count": 27,
   "metadata": {},
   "outputs": [
    {
     "data": {
      "text/plain": [
       "Order Date\n",
       "2014-01-01     480.194231\n",
       "2014-02-01     367.931600\n",
       "2014-03-01     857.291529\n",
       "2014-04-01     567.488357\n",
       "2014-05-01     432.049188\n",
       "2014-06-01     695.059242\n",
       "2014-07-01     601.169500\n",
       "2014-08-01     457.521656\n",
       "2014-09-01     992.353367\n",
       "2014-10-01     769.015437\n",
       "2014-11-01     980.221486\n",
       "2014-12-01    1532.298325\n",
       "2015-01-01     978.328467\n",
       "2015-02-01     522.395667\n",
       "2015-03-01     781.236437\n",
       "2015-04-01     805.822962\n",
       "2015-05-01     624.996700\n",
       "2015-06-01     428.565500\n",
       "2015-07-01     719.706316\n",
       "2015-08-01     602.412012\n",
       "2015-09-01    1382.790684\n",
       "2015-10-01     632.980184\n",
       "2015-11-01    1286.701354\n",
       "2015-12-01    1049.355418\n",
       "2016-01-01     508.182867\n",
       "2016-02-01     356.868273\n",
       "2016-03-01     609.575810\n",
       "2016-04-01     695.373158\n",
       "2016-05-01     687.265227\n",
       "2016-06-01     816.910750\n",
       "2016-07-01     768.736412\n",
       "2016-08-01     734.307782\n",
       "2016-09-01    1135.953371\n",
       "2016-10-01     624.872474\n",
       "2016-11-01    1271.345152\n",
       "2016-12-01    1410.719808\n",
       "2017-01-01     397.602133\n",
       "2017-02-01     528.179800\n",
       "2017-03-01     544.672240\n",
       "2017-04-01     453.297905\n",
       "2017-05-01     678.302328\n",
       "2017-06-01     826.460291\n",
       "2017-07-01     562.524857\n",
       "2017-08-01     857.881889\n",
       "2017-09-01    1209.508583\n",
       "2017-10-01     875.362728\n",
       "2017-11-01    1277.817759\n",
       "2017-12-01    1256.298672\n",
       "Freq: MS, Name: Sales, dtype: float64"
      ]
     },
     "execution_count": 27,
     "metadata": {},
     "output_type": "execute_result"
    }
   ],
   "source": [
    "y"
   ]
  },
  {
   "cell_type": "markdown",
   "metadata": {
    "colab_type": "text",
    "id": "kp5M-jyx2fH_"
   },
   "source": [
    "Taking a look at the furniture sales data for the year 2017"
   ]
  },
  {
   "cell_type": "code",
   "execution_count": 28,
   "metadata": {
    "colab": {},
    "colab_type": "code",
    "id": "0RquBmFZ2fIA",
    "outputId": "8e108c34-3ece-4f9a-8718-bb81ad3f52e4"
   },
   "outputs": [
    {
     "data": {
      "text/plain": [
       "Order Date\n",
       "2017-01-01     397.602133\n",
       "2017-02-01     528.179800\n",
       "2017-03-01     544.672240\n",
       "2017-04-01     453.297905\n",
       "2017-05-01     678.302328\n",
       "2017-06-01     826.460291\n",
       "2017-07-01     562.524857\n",
       "2017-08-01     857.881889\n",
       "2017-09-01    1209.508583\n",
       "2017-10-01     875.362728\n",
       "2017-11-01    1277.817759\n",
       "2017-12-01    1256.298672\n",
       "Freq: MS, Name: Sales, dtype: float64"
      ]
     },
     "execution_count": 28,
     "metadata": {},
     "output_type": "execute_result"
    }
   ],
   "source": [
    "y['2017':]"
   ]
  },
  {
   "cell_type": "markdown",
   "metadata": {
    "colab_type": "text",
    "id": "ZhmEnOQw2fIM"
   },
   "source": [
    "<a id='exploratory_data_analysis'></a>\n",
    "# Visualizing Furniture Sales Time Series Data"
   ]
  },
  {
   "cell_type": "code",
   "execution_count": null,
   "metadata": {},
   "outputs": [],
   "source": []
  },
  {
   "cell_type": "code",
   "execution_count": 29,
   "metadata": {
    "colab": {},
    "colab_type": "code",
    "id": "9ptjYqBH2fIS",
    "outputId": "3b174561-a0af-4316-a1d0-27ef663fb102"
   },
   "outputs": [
    {
     "data": {
      "image/png": "[encoded data removed]",
      "text/plain": [
       "<Figure size 1080x432 with 1 Axes>"
      ]
     },
     "metadata": {},
     "output_type": "display_data"
    }
   ],
   "source": [
    "y.plot(figsize=(15, 6))\n",
    "plt.show()"
   ]
  },
  {
   "cell_type": "markdown",
   "metadata": {
    "colab_type": "text",
    "id": "baqjp5IN2fIj"
   },
   "source": [
    "The plot clearly indicates that the time series has seasonality pattern.The sales are always low at the beginning of the year and high at the end of the year. There is always an upward trend within any single year with a couple of low months in the mid of the year"
   ]
  },
  {
   "cell_type": "code",
   "execution_count": 31,
   "metadata": {},
   "outputs": [],
   "source": [
    "train = y[:'2017-06-01']\n",
    "test = y['2017-07-01':]"
   ]
  },
  {
   "cell_type": "code",
   "execution_count": 35,
   "metadata": {},
   "outputs": [],
   "source": [
    "### single exponential smoothing\n",
    "from statsmodels.tsa.holtwinters import ExponentialSmoothing"
   ]
  },
  {
   "cell_type": "code",
   "execution_count": 36,
   "metadata": {},
   "outputs": [],
   "source": [
    "# our guessed parameters\n",
    "alpha = 0.4\n",
    "beta = 0.2\n",
    "gamma = 0.01\n",
    "\n",
    "# initialise model\n",
    "ets_model = ExponentialSmoothing(train, trend='mul', seasonal='mul', seasonal_periods=12)\n",
    "ets_fit = ets_model.fit(smoothing_level=alpha, smoothing_slope=beta, smoothing_seasonal=gamma)"
   ]
  },
  {
   "cell_type": "code",
   "execution_count": 42,
   "metadata": {},
   "outputs": [
    {
     "data": {
      "text/plain": [
       "2017-07-01     741.423195\n",
       "2017-08-01     673.046697\n",
       "2017-09-01    1284.856616\n",
       "2017-10-01     756.386560\n",
       "2017-11-01    1368.828222\n",
       "2017-12-01    1556.822344\n",
       "2018-01-01     786.231007\n",
       "2018-02-01     591.221389\n",
       "2018-03-01     920.412228\n",
       "2018-04-01     861.025934\n",
       "2018-05-01     808.159661\n",
       "2018-06-01     947.976192\n",
       "Freq: MS, dtype: float64"
      ]
     },
     "execution_count": 42,
     "metadata": {},
     "output_type": "execute_result"
    }
   ],
   "source": [
    "fcast = ets_fit.forecast(steps=12)\n",
    "fcast"
   ]
  },
  {
   "cell_type": "code",
   "execution_count": 39,
   "metadata": {},
   "outputs": [
    {
     "data": {
      "text/plain": [
       "Order Date\n",
       "2017-07-01     562.524857\n",
       "2017-08-01     857.881889\n",
       "2017-09-01    1209.508583\n",
       "2017-10-01     875.362728\n",
       "2017-11-01    1277.817759\n",
       "2017-12-01    1256.298672\n",
       "Freq: MS, Name: Sales, dtype: float64"
      ]
     },
     "execution_count": 39,
     "metadata": {},
     "output_type": "execute_result"
    }
   ],
   "source": [
    "test"
   ]
  },
  {
   "cell_type": "code",
   "execution_count": 44,
   "metadata": {},
   "outputs": [
    {
     "name": "stdout",
     "output_type": "stream",
     "text": [
      "MSE 30766.450006091472\n",
      "MAE 158.2653109717968\n"
     ]
    }
   ],
   "source": [
    "print(\"MSE: \", np.mean((test-fcast)**2))\n",
    "print(\"MAE: \",np.mean(np.abs((test-fcast))))"
   ]
  },
  {
   "cell_type": "code",
   "execution_count": 52,
   "metadata": {},
   "outputs": [],
   "source": [
    "\n",
    "def ETS_auto(train, test,alpha=[None], beta=[None], gamma=[None]):\n",
    "    best_alpha=0\n",
    "    best_beta=0\n",
    "    best_gamma=0\n",
    "    best_mae=None\n",
    "    for i in alpha:\n",
    "        for j in beta:\n",
    "            for k in gamma:  \n",
    "                ets_model = ExponentialSmoothing(train, trend='mul', seasonal='mul', seasonal_periods=12)\n",
    "                ets_fit = ets_model.fit(smoothing_level=i, smoothing_slope=j, smoothing_seasonal=k)\n",
    "                fcast = ets_fit.forecast(steps=6)\n",
    "                mae=np.mean(np.abs((test-fcast)))\n",
    "                if best_mae is None or best_mae >mae:\n",
    "                    best_mae=mae\n",
    "                    best_alpha=i\n",
    "                    best_beta=j\n",
    "                    best_gamma=k\n",
    "    best_params={\"alpha\":i, \"beta\":j, \"gamma\":k,\"mae\":best_mae}\n",
    "    return best_params\n",
    "            \n",
    "            \n",
    "        "
   ]
  },
  {
   "cell_type": "code",
   "execution_count": 63,
   "metadata": {},
   "outputs": [],
   "source": [
    "# ETS_auto(train, test,alpha=np.linspace(0,.9, 50), beta=np.linspace(0,.9, 50), gamma=np.linspace(0,.99, 50))"
   ]
  },
  {
   "cell_type": "code",
   "execution_count": 65,
   "metadata": {},
   "outputs": [],
   "source": [
    "import numpy as np\n",
    "from sklearn.metrics import mean_absolute_error\n",
    "from statsmodels.tsa.holtwinters import ExponentialSmoothing\n",
    "\n",
    "def auto_hwm(timeseries, val_split_date, alpha=[None], beta=[None], gamma=[None], phi=[None], \n",
    "              trend=None, seasonal=None, periods=None, verbose=False):\n",
    "\n",
    "    '''The auto_hwm (short for auto holt winters model) function to search for the best possible parameter\n",
    "        combination for the Exponential Smoothing model i.e. smoothing level, smoothing slope, \n",
    "        smoothing seasonal and damping slope based on mean absolute error.\n",
    "\n",
    "        ****Paramters****\n",
    "\n",
    "        timeseries: array-like\n",
    "\n",
    "                  Time-Series\n",
    "\n",
    "        val_split_date: str\n",
    "\n",
    "                  The datetime to split the time-series for validation\n",
    "\n",
    "        alpha: list of floats (optional)\n",
    "\n",
    "                  The list of alpha values for the simple exponential smoothing parameter\n",
    "\n",
    "        beta: list of floats (optional)\n",
    "\n",
    "                  The list of beta values for the Holt’s trend method parameter\n",
    "\n",
    "        gamma: list of floats (optional)\n",
    "\n",
    "                  The list of gamma values for the holt winters seasonal method parameter\n",
    "\n",
    "        phi: list of floats (optional)\n",
    "\n",
    "                  The list of phi values for the damped method parameter\n",
    "\n",
    "        trend: {“add”, “mul”, “additive”, “multiplicative”, None} (optional)\n",
    "\n",
    "                  Type of trend component.\n",
    "\n",
    "        seasonal: {“add”, “mul”, “additive”, “multiplicative”, None} (optional)\n",
    "                  \n",
    "                  Type of seasonal component.\n",
    "\n",
    "        periods: int (optional)\n",
    "                  \n",
    "                  The number of periods in a complete seasonal cycle\n",
    "\n",
    "        ****Returns****\n",
    "\n",
    "        best_params: dict\n",
    "\n",
    "                  The values of alpha, beta, gamma and phi for which the \n",
    "                  validation data (val_split_date) gives the least mean absolute error\n",
    "    '''\n",
    "\n",
    "    best_params = []\n",
    "    actual = timeseries[val_split_date:]\n",
    "\n",
    "    print('Evaluating Exponential Smoothing model for', len(alpha) * len(beta) * len(gamma) * len(phi), 'fits\\n')\n",
    "\n",
    "    for a in alpha:\n",
    "        for b in beta:\n",
    "            for g in gamma:\n",
    "                for p in phi:\n",
    "\n",
    "                    if(verbose == True):\n",
    "                        print('Checking for', {'alpha': a, 'beta': b, 'gamma': g, 'phi': p})\n",
    "\n",
    "                    model = ExponentialSmoothing(timeseries, trend=trend, seasonal=seasonal, seasonal_periods=periods)\n",
    "                    model.fit(smoothing_level=a, smoothing_slope=b, smoothing_seasonal=g, damping_slope=p)\n",
    "                    f_cast = model.predict(model.params, start=actual.index[0])\n",
    "                    score = np.float64(mean_absolute_error(actual, f_cast)).mean()\n",
    "\n",
    "                    best_params.append({'alpha': a, 'beta': b, 'gamma': g, 'phi': p, 'mae': score})\n",
    "\n",
    "    return min(best_params, key=lambda x: x['mae'])\n"
   ]
  },
  {
   "cell_type": "code",
   "execution_count": 66,
   "metadata": {},
   "outputs": [
    {
     "name": "stdout",
     "output_type": "stream",
     "text": [
      "Evaluating Exponential Smoothing model for 125 fits\n",
      "\n",
      "Checking for {'alpha': 0.0, 'beta': 0.0, 'gamma': 0.0, 'phi': None}\n",
      "Checking for {'alpha': 0.0, 'beta': 0.0, 'gamma': 0.125, 'phi': None}\n",
      "Checking for {'alpha': 0.0, 'beta': 0.0, 'gamma': 0.25, 'phi': None}\n",
      "Checking for {'alpha': 0.0, 'beta': 0.0, 'gamma': 0.375, 'phi': None}\n",
      "Checking for {'alpha': 0.0, 'beta': 0.0, 'gamma': 0.5, 'phi': None}\n",
      "Checking for {'alpha': 0.0, 'beta': 0.125, 'gamma': 0.0, 'phi': None}\n",
      "Checking for {'alpha': 0.0, 'beta': 0.125, 'gamma': 0.125, 'phi': None}\n",
      "Checking for {'alpha': 0.0, 'beta': 0.125, 'gamma': 0.25, 'phi': None}\n",
      "Checking for {'alpha': 0.0, 'beta': 0.125, 'gamma': 0.375, 'phi': None}\n",
      "Checking for {'alpha': 0.0, 'beta': 0.125, 'gamma': 0.5, 'phi': None}\n",
      "Checking for {'alpha': 0.0, 'beta': 0.25, 'gamma': 0.0, 'phi': None}\n",
      "Checking for {'alpha': 0.0, 'beta': 0.25, 'gamma': 0.125, 'phi': None}\n",
      "Checking for {'alpha': 0.0, 'beta': 0.25, 'gamma': 0.25, 'phi': None}\n",
      "Checking for {'alpha': 0.0, 'beta': 0.25, 'gamma': 0.375, 'phi': None}\n",
      "Checking for {'alpha': 0.0, 'beta': 0.25, 'gamma': 0.5, 'phi': None}\n",
      "Checking for {'alpha': 0.0, 'beta': 0.375, 'gamma': 0.0, 'phi': None}\n",
      "Checking for {'alpha': 0.0, 'beta': 0.375, 'gamma': 0.125, 'phi': None}\n",
      "Checking for {'alpha': 0.0, 'beta': 0.375, 'gamma': 0.25, 'phi': None}\n",
      "Checking for {'alpha': 0.0, 'beta': 0.375, 'gamma': 0.375, 'phi': None}\n",
      "Checking for {'alpha': 0.0, 'beta': 0.375, 'gamma': 0.5, 'phi': None}\n",
      "Checking for {'alpha': 0.0, 'beta': 0.5, 'gamma': 0.0, 'phi': None}\n",
      "Checking for {'alpha': 0.0, 'beta': 0.5, 'gamma': 0.125, 'phi': None}\n",
      "Checking for {'alpha': 0.0, 'beta': 0.5, 'gamma': 0.25, 'phi': None}\n",
      "Checking for {'alpha': 0.0, 'beta': 0.5, 'gamma': 0.375, 'phi': None}\n",
      "Checking for {'alpha': 0.0, 'beta': 0.5, 'gamma': 0.5, 'phi': None}\n",
      "Checking for {'alpha': 0.125, 'beta': 0.0, 'gamma': 0.0, 'phi': None}\n",
      "Checking for {'alpha': 0.125, 'beta': 0.0, 'gamma': 0.125, 'phi': None}\n",
      "Checking for {'alpha': 0.125, 'beta': 0.0, 'gamma': 0.25, 'phi': None}\n",
      "Checking for {'alpha': 0.125, 'beta': 0.0, 'gamma': 0.375, 'phi': None}\n",
      "Checking for {'alpha': 0.125, 'beta': 0.0, 'gamma': 0.5, 'phi': None}\n",
      "Checking for {'alpha': 0.125, 'beta': 0.125, 'gamma': 0.0, 'phi': None}\n",
      "Checking for {'alpha': 0.125, 'beta': 0.125, 'gamma': 0.125, 'phi': None}\n",
      "Checking for {'alpha': 0.125, 'beta': 0.125, 'gamma': 0.25, 'phi': None}\n",
      "Checking for {'alpha': 0.125, 'beta': 0.125, 'gamma': 0.375, 'phi': None}\n",
      "Checking for {'alpha': 0.125, 'beta': 0.125, 'gamma': 0.5, 'phi': None}\n",
      "Checking for {'alpha': 0.125, 'beta': 0.25, 'gamma': 0.0, 'phi': None}\n",
      "Checking for {'alpha': 0.125, 'beta': 0.25, 'gamma': 0.125, 'phi': None}\n",
      "Checking for {'alpha': 0.125, 'beta': 0.25, 'gamma': 0.25, 'phi': None}\n",
      "Checking for {'alpha': 0.125, 'beta': 0.25, 'gamma': 0.375, 'phi': None}\n",
      "Checking for {'alpha': 0.125, 'beta': 0.25, 'gamma': 0.5, 'phi': None}\n",
      "Checking for {'alpha': 0.125, 'beta': 0.375, 'gamma': 0.0, 'phi': None}\n",
      "Checking for {'alpha': 0.125, 'beta': 0.375, 'gamma': 0.125, 'phi': None}\n",
      "Checking for {'alpha': 0.125, 'beta': 0.375, 'gamma': 0.25, 'phi': None}\n",
      "Checking for {'alpha': 0.125, 'beta': 0.375, 'gamma': 0.375, 'phi': None}\n",
      "Checking for {'alpha': 0.125, 'beta': 0.375, 'gamma': 0.5, 'phi': None}\n",
      "Checking for {'alpha': 0.125, 'beta': 0.5, 'gamma': 0.0, 'phi': None}\n",
      "Checking for {'alpha': 0.125, 'beta': 0.5, 'gamma': 0.125, 'phi': None}\n",
      "Checking for {'alpha': 0.125, 'beta': 0.5, 'gamma': 0.25, 'phi': None}\n",
      "Checking for {'alpha': 0.125, 'beta': 0.5, 'gamma': 0.375, 'phi': None}\n",
      "Checking for {'alpha': 0.125, 'beta': 0.5, 'gamma': 0.5, 'phi': None}\n",
      "Checking for {'alpha': 0.25, 'beta': 0.0, 'gamma': 0.0, 'phi': None}\n",
      "Checking for {'alpha': 0.25, 'beta': 0.0, 'gamma': 0.125, 'phi': None}\n",
      "Checking for {'alpha': 0.25, 'beta': 0.0, 'gamma': 0.25, 'phi': None}\n",
      "Checking for {'alpha': 0.25, 'beta': 0.0, 'gamma': 0.375, 'phi': None}\n",
      "Checking for {'alpha': 0.25, 'beta': 0.0, 'gamma': 0.5, 'phi': None}\n",
      "Checking for {'alpha': 0.25, 'beta': 0.125, 'gamma': 0.0, 'phi': None}\n",
      "Checking for {'alpha': 0.25, 'beta': 0.125, 'gamma': 0.125, 'phi': None}\n",
      "Checking for {'alpha': 0.25, 'beta': 0.125, 'gamma': 0.25, 'phi': None}\n",
      "Checking for {'alpha': 0.25, 'beta': 0.125, 'gamma': 0.375, 'phi': None}\n",
      "Checking for {'alpha': 0.25, 'beta': 0.125, 'gamma': 0.5, 'phi': None}\n",
      "Checking for {'alpha': 0.25, 'beta': 0.25, 'gamma': 0.0, 'phi': None}\n",
      "Checking for {'alpha': 0.25, 'beta': 0.25, 'gamma': 0.125, 'phi': None}\n",
      "Checking for {'alpha': 0.25, 'beta': 0.25, 'gamma': 0.25, 'phi': None}\n",
      "Checking for {'alpha': 0.25, 'beta': 0.25, 'gamma': 0.375, 'phi': None}\n",
      "Checking for {'alpha': 0.25, 'beta': 0.25, 'gamma': 0.5, 'phi': None}\n",
      "Checking for {'alpha': 0.25, 'beta': 0.375, 'gamma': 0.0, 'phi': None}\n",
      "Checking for {'alpha': 0.25, 'beta': 0.375, 'gamma': 0.125, 'phi': None}\n",
      "Checking for {'alpha': 0.25, 'beta': 0.375, 'gamma': 0.25, 'phi': None}\n",
      "Checking for {'alpha': 0.25, 'beta': 0.375, 'gamma': 0.375, 'phi': None}\n",
      "Checking for {'alpha': 0.25, 'beta': 0.375, 'gamma': 0.5, 'phi': None}\n",
      "Checking for {'alpha': 0.25, 'beta': 0.5, 'gamma': 0.0, 'phi': None}\n",
      "Checking for {'alpha': 0.25, 'beta': 0.5, 'gamma': 0.125, 'phi': None}\n",
      "Checking for {'alpha': 0.25, 'beta': 0.5, 'gamma': 0.25, 'phi': None}\n",
      "Checking for {'alpha': 0.25, 'beta': 0.5, 'gamma': 0.375, 'phi': None}\n",
      "Checking for {'alpha': 0.25, 'beta': 0.5, 'gamma': 0.5, 'phi': None}\n",
      "Checking for {'alpha': 0.375, 'beta': 0.0, 'gamma': 0.0, 'phi': None}\n",
      "Checking for {'alpha': 0.375, 'beta': 0.0, 'gamma': 0.125, 'phi': None}\n",
      "Checking for {'alpha': 0.375, 'beta': 0.0, 'gamma': 0.25, 'phi': None}\n",
      "Checking for {'alpha': 0.375, 'beta': 0.0, 'gamma': 0.375, 'phi': None}\n",
      "Checking for {'alpha': 0.375, 'beta': 0.0, 'gamma': 0.5, 'phi': None}\n",
      "Checking for {'alpha': 0.375, 'beta': 0.125, 'gamma': 0.0, 'phi': None}\n",
      "Checking for {'alpha': 0.375, 'beta': 0.125, 'gamma': 0.125, 'phi': None}\n",
      "Checking for {'alpha': 0.375, 'beta': 0.125, 'gamma': 0.25, 'phi': None}\n",
      "Checking for {'alpha': 0.375, 'beta': 0.125, 'gamma': 0.375, 'phi': None}\n",
      "Checking for {'alpha': 0.375, 'beta': 0.125, 'gamma': 0.5, 'phi': None}\n",
      "Checking for {'alpha': 0.375, 'beta': 0.25, 'gamma': 0.0, 'phi': None}\n",
      "Checking for {'alpha': 0.375, 'beta': 0.25, 'gamma': 0.125, 'phi': None}\n",
      "Checking for {'alpha': 0.375, 'beta': 0.25, 'gamma': 0.25, 'phi': None}\n",
      "Checking for {'alpha': 0.375, 'beta': 0.25, 'gamma': 0.375, 'phi': None}\n",
      "Checking for {'alpha': 0.375, 'beta': 0.25, 'gamma': 0.5, 'phi': None}\n",
      "Checking for {'alpha': 0.375, 'beta': 0.375, 'gamma': 0.0, 'phi': None}\n",
      "Checking for {'alpha': 0.375, 'beta': 0.375, 'gamma': 0.125, 'phi': None}\n",
      "Checking for {'alpha': 0.375, 'beta': 0.375, 'gamma': 0.25, 'phi': None}\n",
      "Checking for {'alpha': 0.375, 'beta': 0.375, 'gamma': 0.375, 'phi': None}\n",
      "Checking for {'alpha': 0.375, 'beta': 0.375, 'gamma': 0.5, 'phi': None}\n",
      "Checking for {'alpha': 0.375, 'beta': 0.5, 'gamma': 0.0, 'phi': None}\n",
      "Checking for {'alpha': 0.375, 'beta': 0.5, 'gamma': 0.125, 'phi': None}\n",
      "Checking for {'alpha': 0.375, 'beta': 0.5, 'gamma': 0.25, 'phi': None}\n",
      "Checking for {'alpha': 0.375, 'beta': 0.5, 'gamma': 0.375, 'phi': None}\n",
      "Checking for {'alpha': 0.375, 'beta': 0.5, 'gamma': 0.5, 'phi': None}\n",
      "Checking for {'alpha': 0.5, 'beta': 0.0, 'gamma': 0.0, 'phi': None}\n",
      "Checking for {'alpha': 0.5, 'beta': 0.0, 'gamma': 0.125, 'phi': None}\n",
      "Checking for {'alpha': 0.5, 'beta': 0.0, 'gamma': 0.25, 'phi': None}\n",
      "Checking for {'alpha': 0.5, 'beta': 0.0, 'gamma': 0.375, 'phi': None}\n",
      "Checking for {'alpha': 0.5, 'beta': 0.0, 'gamma': 0.5, 'phi': None}\n",
      "Checking for {'alpha': 0.5, 'beta': 0.125, 'gamma': 0.0, 'phi': None}\n",
      "Checking for {'alpha': 0.5, 'beta': 0.125, 'gamma': 0.125, 'phi': None}\n",
      "Checking for {'alpha': 0.5, 'beta': 0.125, 'gamma': 0.25, 'phi': None}\n",
      "Checking for {'alpha': 0.5, 'beta': 0.125, 'gamma': 0.375, 'phi': None}\n",
      "Checking for {'alpha': 0.5, 'beta': 0.125, 'gamma': 0.5, 'phi': None}\n",
      "Checking for {'alpha': 0.5, 'beta': 0.25, 'gamma': 0.0, 'phi': None}\n",
      "Checking for {'alpha': 0.5, 'beta': 0.25, 'gamma': 0.125, 'phi': None}\n",
      "Checking for {'alpha': 0.5, 'beta': 0.25, 'gamma': 0.25, 'phi': None}\n",
      "Checking for {'alpha': 0.5, 'beta': 0.25, 'gamma': 0.375, 'phi': None}\n",
      "Checking for {'alpha': 0.5, 'beta': 0.25, 'gamma': 0.5, 'phi': None}\n",
      "Checking for {'alpha': 0.5, 'beta': 0.375, 'gamma': 0.0, 'phi': None}\n",
      "Checking for {'alpha': 0.5, 'beta': 0.375, 'gamma': 0.125, 'phi': None}\n",
      "Checking for {'alpha': 0.5, 'beta': 0.375, 'gamma': 0.25, 'phi': None}\n",
      "Checking for {'alpha': 0.5, 'beta': 0.375, 'gamma': 0.375, 'phi': None}\n",
      "Checking for {'alpha': 0.5, 'beta': 0.375, 'gamma': 0.5, 'phi': None}\n",
      "Checking for {'alpha': 0.5, 'beta': 0.5, 'gamma': 0.0, 'phi': None}\n",
      "Checking for {'alpha': 0.5, 'beta': 0.5, 'gamma': 0.125, 'phi': None}\n",
      "Checking for {'alpha': 0.5, 'beta': 0.5, 'gamma': 0.25, 'phi': None}\n",
      "Checking for {'alpha': 0.5, 'beta': 0.5, 'gamma': 0.375, 'phi': None}\n",
      "Checking for {'alpha': 0.5, 'beta': 0.5, 'gamma': 0.5, 'phi': None}\n"
     ]
    },
    {
     "data": {
      "text/plain": [
       "{'alpha': 0.25,\n",
       " 'beta': 0.0,\n",
       " 'gamma': 0.0,\n",
       " 'phi': None,\n",
       " 'mae': 101.03155490050624}"
      ]
     },
     "execution_count": 66,
     "metadata": {},
     "output_type": "execute_result"
    }
   ],
   "source": [
    "auto_hwm(y, val_split_date = '2017-06-01', \n",
    "         alpha = np.linspace(0,0.5,5), \n",
    "         beta = np.linspace(0,0.5,5), \n",
    "         gamma = np.linspace(0,0.5,5), \n",
    "         trend='mul', \n",
    "         seasonal='mul', \n",
    "         periods=12, verbose=True)"
   ]
  },
  {
   "cell_type": "code",
   "execution_count": 74,
   "metadata": {},
   "outputs": [],
   "source": [
    "# our guessed parameters\n",
    "alpha = 0.25\n",
    "beta = 0\n",
    "gamma = 0\n",
    "\n",
    "# initialise model\n",
    "ets_model = ExponentialSmoothing(y, trend='mul', seasonal='mul', seasonal_periods=12)\n",
    "ets_fit = ets_model.fit(smoothing_level=alpha, smoothing_slope=beta, smoothing_seasonal=gamma)"
   ]
  },
  {
   "cell_type": "code",
   "execution_count": 75,
   "metadata": {},
   "outputs": [],
   "source": [
    "fcast = ets_fit.forecast(steps=12)"
   ]
  },
  {
   "cell_type": "code",
   "execution_count": 76,
   "metadata": {},
   "outputs": [
    {
     "data": {
      "text/plain": [
       "2018-01-01     651.352655\n",
       "2018-02-01     533.299497\n",
       "2018-03-01     831.924512\n",
       "2018-04-01     745.182708\n",
       "2018-05-01     702.043376\n",
       "2018-06-01     801.253112\n",
       "2018-07-01     773.269630\n",
       "2018-08-01     854.949991\n",
       "2018-09-01    1385.785350\n",
       "2018-10-01     882.300003\n",
       "2018-11-01    1435.362530\n",
       "2018-12-01    1557.224073\n",
       "Freq: MS, dtype: float64"
      ]
     },
     "execution_count": 76,
     "metadata": {},
     "output_type": "execute_result"
    }
   ],
   "source": [
    "fcast"
   ]
  },
  {
   "cell_type": "markdown",
   "metadata": {
    "colab_type": "text",
    "id": "AE9tBgZx2fIj"
   },
   "source": [
    "<a id='Checking_Stationarity'></a>\n",
    "# Checking Stationarity"
   ]
  },
  {
   "cell_type": "markdown",
   "metadata": {
    "colab_type": "text",
    "id": "wIVNkW_o2fIo"
   },
   "source": [
    "Our first step in time-series analysis should be to check whether there is any evidence of a trend or seasonal effects and, if there is, remove them. Augmented Dickey-Fuller(ADF) statistics is one of the more widely used statistical test to check whether your time series is stationary or non-stationary. It uses an autoregressive model and optimizes an information criterion across multiple different lag values.\n",
    "\n",
    "The null hypothesis of the test is that the time series can be represented by a unit root, that it is not stationary (has some time-dependent structure). \n",
    "The alternate hypothesis (rejecting the null hypothesis) is that the time series is stationary."
   ]
  },
  {
   "cell_type": "code",
   "execution_count": 77,
   "metadata": {},
   "outputs": [],
   "source": [
    "from statsmodels.tsa.stattools import adfuller\n"
   ]
  },
  {
   "cell_type": "code",
   "execution_count": 78,
   "metadata": {},
   "outputs": [
    {
     "data": {
      "text/plain": [
       "(-5.191070187339266,\n",
       " 9.168756655665896e-06,\n",
       " 10,\n",
       " 37,\n",
       " {'1%': -3.6209175221605827,\n",
       "  '5%': -2.9435394610388332,\n",
       "  '10%': -2.6104002410518627},\n",
       " 521.9616303121272)"
      ]
     },
     "execution_count": 78,
     "metadata": {},
     "output_type": "execute_result"
    }
   ],
   "source": [
    "adfuller(y)"
   ]
  },
  {
   "cell_type": "code",
   "execution_count": null,
   "metadata": {},
   "outputs": [],
   "source": []
  },
  {
   "cell_type": "code",
   "execution_count": 72,
   "metadata": {
    "colab": {},
    "colab_type": "code",
    "id": "Ai7--10D2fIp",
    "outputId": "42e3da28-9e0f-40da-ae0d-e8e229cf5085"
   },
   "outputs": [
    {
     "name": "stdout",
     "output_type": "stream",
     "text": [
      "ADF Statistic: -5.191070\n",
      "p-value: 0.000009\n",
      "Critical Values:\n",
      "\t1%: -3.621\n",
      "\t5%: -2.944\n",
      "\t10%: -2.610\n"
     ]
    }
   ],
   "source": [
    "from pandas import Series\n",
    "from statsmodels.tsa.stattools import adfuller\n",
    "#series = Series.from_csv('daily-total-female-births.csv', header=0)\n",
    "result = adfuller(y)\n",
    "print('ADF Statistic: %f' % result[0])\n",
    "print('p-value: %f' % result[1])\n",
    "print('Critical Values:')\n",
    "for key, value in result[4].items():\n",
    "    print('\\t%s: %.3f' % (key, value))"
   ]
  },
  {
   "cell_type": "markdown",
   "metadata": {
    "colab_type": "text",
    "id": "P_wzokgY2fI3"
   },
   "source": [
    "We can see that our statistic value of -4.756843 is less than the value of -3.578 at 1%. This suggests that we can reject the null hypothesis with a significance level of less than 1% (i.e. a low probability that the result is a statistical fluke). Rejecting the null hypothesis means that the process has no unit root, and in turn that the time series is stationary or does not have time-dependent structure.\n",
    "\n",
    "The p-value is 0.000009, which is way below the threshold (0.05). Hence the null-hypothesis is rejected. It suggests the time series does not have a unit root, meaning it is stationary."
   ]
  },
  {
   "cell_type": "markdown",
   "metadata": {
    "colab_type": "text",
    "id": "pXlsMkzz2fI4"
   },
   "source": [
    "<a id='Decomposing'></a>\n",
    "# Decomposing\n",
    "Decomposing the time series into three distinct components: trend, seasonality, and noise."
   ]
  },
  {
   "cell_type": "code",
   "execution_count": 95,
   "metadata": {},
   "outputs": [],
   "source": [
    "y.to_csv(\"y.csv\")"
   ]
  },
  {
   "cell_type": "code",
   "execution_count": 92,
   "metadata": {},
   "outputs": [
    {
     "data": {
      "text/plain": [
       "<statsmodels.tsa.seasonal.DecomposeResult at 0x285e0830760>"
      ]
     },
     "execution_count": 92,
     "metadata": {},
     "output_type": "execute_result"
    }
   ],
   "source": [
    "from statsmodels.tsa.seasonal import seasonal_decompose\n",
    "decomposition = seasonal_decompose(y, model='multiplicative',  two_sided=False, extrapolate_trend=4)\n",
    "decomposition"
   ]
  },
  {
   "cell_type": "code",
   "execution_count": 97,
   "metadata": {},
   "outputs": [
    {
     "data": {
      "text/plain": [
       "Order Date\n",
       "2014-01-01    1.002710\n",
       "2014-02-01    1.019019\n",
       "2014-03-01    1.449618\n",
       "2014-04-01    1.059923\n",
       "2014-05-01    0.836962\n",
       "2014-06-01    1.152516\n",
       "2014-07-01    1.035863\n",
       "2014-08-01    0.784992\n",
       "2014-09-01    0.950487\n",
       "2014-10-01    1.177302\n",
       "2014-11-01    0.904377\n",
       "2014-12-01    1.269304\n",
       "2015-01-01    1.664691\n",
       "2015-02-01    1.160107\n",
       "2015-03-01    1.075209\n",
       "2015-04-01    1.237542\n",
       "2015-05-01    0.991407\n",
       "2015-06-01    0.594809\n",
       "2015-07-01    1.064848\n",
       "2015-08-01    0.890869\n",
       "2015-09-01    1.130075\n",
       "2015-10-01    0.830289\n",
       "2015-11-01    1.025524\n",
       "2015-12-01    0.769986\n",
       "2016-01-01    0.810682\n",
       "2016-02-01    0.796413\n",
       "2016-03-01    0.862330\n",
       "2016-04-01    1.124647\n",
       "2016-05-01    1.177519\n",
       "2016-06-01    1.189932\n",
       "2016-07-01    1.156875\n",
       "2016-08-01    1.109079\n",
       "2016-09-01    0.980359\n",
       "2016-10-01    0.888704\n",
       "2016-11-01    1.109356\n",
       "2016-12-01    1.102843\n",
       "2017-01-01    0.635298\n",
       "2017-02-01    1.137841\n",
       "2017-03-01    0.726224\n",
       "2017-04-01    0.691269\n",
       "2017-05-01    1.107494\n",
       "2017-06-01    1.176125\n",
       "2017-07-01    0.855795\n",
       "2017-08-01    1.328441\n",
       "2017-09-01    1.052460\n",
       "2017-10-01    1.217086\n",
       "2017-11-01    1.074124\n",
       "2017-12-01    0.971248\n",
       "Freq: MS, Name: resid, dtype: float64"
      ]
     },
     "execution_count": 97,
     "metadata": {},
     "output_type": "execute_result"
    }
   ],
   "source": []
  },
  {
   "cell_type": "code",
   "execution_count": 101,
   "metadata": {
    "colab": {},
    "colab_type": "code",
    "id": "SSi8mWUB2fI_",
    "outputId": "bdffe368-aa57-441c-e6ee-bb619140531e"
   },
   "outputs": [
    {
     "data": {
      "image/png": "[encoded data removed]",
      "text/plain": [
       "<Figure size 432x288 with 1 Axes>"
      ]
     },
     "metadata": {},
     "output_type": "display_data"
    },
    {
     "data": {
      "image/png": "[encoded data removed]",
      "text/plain": [
       "<Figure size 432x288 with 1 Axes>"
      ]
     },
     "metadata": {},
     "output_type": "display_data"
    },
    {
     "data": {
      "image/png": "[encoded data removed]",
      "text/plain": [
       "<Figure size 432x288 with 1 Axes>"
      ]
     },
     "metadata": {},
     "output_type": "display_data"
    },
    {
     "data": {
      "text/plain": [
       "<matplotlib.legend.Legend at 0x285e0902b20>"
      ]
     },
     "execution_count": 101,
     "metadata": {},
     "output_type": "execute_result"
    },
    {
     "data": {
      "image/png": "[encoded data removed]",
      "text/plain": [
       "<Figure size 432x288 with 1 Axes>"
      ]
     },
     "metadata": {},
     "output_type": "display_data"
    }
   ],
   "source": [
    "from statsmodels.tsa.seasonal import seasonal_decompose\n",
    "decomposition = seasonal_decompose(y, model='multiplicative',  two_sided=False, extrapolate_trend=4)\n",
    "\n",
    "plt.plot(y, label = 'Original')\n",
    "plt.legend(loc = 'best')\n",
    "\n",
    "trend = decomposition.trend\n",
    "plt.show()\n",
    "plt.plot(trend, label = 'Trend')\n",
    "plt.legend(loc = 'best')\n",
    "\n",
    "seasonal = decomposition.seasonal\n",
    "plt.show()\n",
    "plt.plot(seasonal, label = 'Seasonal')\n",
    "plt.legend(loc = 'best')\n",
    "\n",
    "residual = decomposition.resid\n",
    "plt.show()\n",
    "plt.plot(residual, label = 'Residual')\n",
    "plt.legend(loc='best')"
   ]
  },
  {
   "cell_type": "markdown",
   "metadata": {
    "colab_type": "text",
    "id": "ag1uQgOh2fJF"
   },
   "source": [
    "By visualizing the decomposed components of the original time series we can say that the sales of furniture is unstable, along with its obvious seasonality."
   ]
  },
  {
   "cell_type": "markdown",
   "metadata": {
    "colab_type": "text",
    "id": "P8lrmUY22fJI"
   },
   "source": [
    "<a id='Forecasting'></a>\n",
    "# Forecasting"
   ]
  },
  {
   "cell_type": "markdown",
   "metadata": {
    "colab_type": "text",
    "id": "DzimuzaE2fJK"
   },
   "source": [
    "<a id='Time_Series_Forcasting_using_ARIMA'></a>\n",
    "# Time Series Forecasting using ARIMA\n",
    "We will use ARIMA for forecasting our time series. ARIMA is also denoted as ARIMA(p,d,q) where p,d,q accounts for seasonality, trend and noise in the time series data"
   ]
  },
  {
   "cell_type": "code",
   "execution_count": null,
   "metadata": {},
   "outputs": [],
   "source": [
    "SARIMA(data, param=(p,d,q), seasonal_params=(P,D,Q,periods))"
   ]
  },
  {
   "cell_type": "code",
   "execution_count": 104,
   "metadata": {},
   "outputs": [],
   "source": [
    "# p = d = q = range(0, 3)\n",
    "# pdq = list(itertools.product(p, d, q))\n",
    "# seasonal_pdq = [(x[0], x[1], x[2], 12) for x in list(itertools.product(p, d, q))]\n",
    "# seasonal_pdq"
   ]
  },
  {
   "cell_type": "code",
   "execution_count": 74,
   "metadata": {
    "colab": {},
    "colab_type": "code",
    "id": "gYUZlLQW2fJL",
    "outputId": "ba489325-a76e-4d13-bc6b-a240cf888320"
   },
   "outputs": [
    {
     "name": "stdout",
     "output_type": "stream",
     "text": [
      "Examples of parameter combinations for Seasonal ARIMA...\n",
      "SARIMAX: (0, 0, 1) x (0, 0, 1, 12)\n",
      "SARIMAX: (0, 0, 1) x (0, 1, 0, 12)\n",
      "SARIMAX: (0, 1, 0) x (0, 1, 1, 12)\n",
      "SARIMAX: (0, 1, 0) x (1, 0, 0, 12)\n"
     ]
    }
   ],
   "source": [
    "p = d = q = range(0, 3)\n",
    "pdq = list(itertools.product(p, d, q))\n",
    "\n",
    "seasonal_pdq = [(x[0], x[1], x[2], 12) for x in list(itertools.product(p, d, q))]\n",
    "print('Examples of parameter combinations for Seasonal ARIMA...')\n",
    "print('SARIMAX: {} x {}'.format(pdq[1], seasonal_pdq[1]))\n",
    "print('SARIMAX: {} x {}'.format(pdq[1], seasonal_pdq[2]))\n",
    "print('SARIMAX: {} x {}'.format(pdq[2], seasonal_pdq[3]))\n",
    "print('SARIMAX: {} x {}'.format(pdq[2], seasonal_pdq[4]))"
   ]
  },
  {
   "cell_type": "markdown",
   "metadata": {
    "colab_type": "text",
    "id": "OhpHQ-uZ2fJQ"
   },
   "source": [
    "<a id='Parameter_Selection'></a>\n",
    "# Parameter Selection \n",
    "We use “grid search” to find the optimal set of parameters that yields the best performance for our model."
   ]
  },
  {
   "cell_type": "code",
   "execution_count": 106,
   "metadata": {
    "colab": {},
    "colab_type": "code",
    "id": "4PH7LPy82fJR",
    "outputId": "cc82e03d-9c2a-495c-cda9-ade16ce5a8b8"
   },
   "outputs": [
    {
     "name": "stdout",
     "output_type": "stream",
     "text": [
      "ARIMA(0, 0, 0)x(0, 0, 0, 12)12 - AIC:769.0817523205915\n",
      "ARIMA(0, 0, 0)x(0, 0, 1, 12)12 - AIC:1541.1544125832575\n",
      "ARIMA(0, 0, 0)x(0, 0, 2, 12)12 - AIC:354.7862732407005\n",
      "ARIMA(0, 0, 0)x(0, 1, 0, 12)12 - AIC:477.7170130920111\n",
      "ARIMA(0, 0, 0)x(0, 1, 1, 12)12 - AIC:302.2702899793726\n",
      "ARIMA(0, 0, 0)x(0, 1, 2, 12)12 - AIC:146.88834672464736\n",
      "ARIMA(0, 0, 0)x(0, 2, 0, 12)12 - AIC:336.9536604856288\n",
      "ARIMA(0, 0, 0)x(0, 2, 1, 12)12 - AIC:149.84561033292687\n",
      "ARIMA(0, 0, 0)x(0, 2, 2, 12)12 - AIC:6.0\n",
      "ARIMA(0, 0, 0)x(1, 0, 0, 12)12 - AIC:497.2314433418337\n",
      "ARIMA(0, 0, 0)x(1, 0, 1, 12)12 - AIC:1540.9802990406256\n",
      "ARIMA(0, 0, 0)x(1, 0, 2, 12)12 - AIC:309.56039684622556\n",
      "ARIMA(0, 0, 0)x(1, 1, 0, 12)12 - AIC:318.0047199116341\n",
      "ARIMA(0, 0, 0)x(1, 1, 1, 12)12 - AIC:304.2488280302578\n",
      "ARIMA(0, 0, 0)x(1, 1, 2, 12)12 - AIC:148.83996705488377\n",
      "ARIMA(0, 0, 0)x(1, 2, 0, 12)12 - AIC:162.12029487165503\n",
      "ARIMA(0, 0, 0)x(1, 2, 1, 12)12 - AIC:151.35761675098883\n",
      "ARIMA(0, 0, 0)x(1, 2, 2, 12)12 - AIC:8.0\n",
      "ARIMA(0, 0, 0)x(2, 0, 0, 12)12 - AIC:319.96929434508735\n",
      "ARIMA(0, 0, 0)x(2, 0, 1, 12)12 - AIC:319.21472407895885\n",
      "ARIMA(0, 0, 0)x(2, 0, 2, 12)12 - AIC:307.8981846483094\n",
      "ARIMA(0, 0, 0)x(2, 1, 0, 12)12 - AIC:159.5144730671919\n",
      "ARIMA(0, 0, 0)x(2, 1, 1, 12)12 - AIC:161.29079492851716\n",
      "ARIMA(0, 0, 0)x(2, 1, 2, 12)12 - AIC:150.77405830117536\n",
      "ARIMA(0, 0, 0)x(2, 2, 0, 12)12 - AIC:6.0\n",
      "ARIMA(0, 0, 0)x(2, 2, 1, 12)12 - AIC:8.0\n",
      "ARIMA(0, 0, 0)x(2, 2, 2, 12)12 - AIC:10.0\n",
      "ARIMA(0, 0, 1)x(0, 0, 0, 12)12 - AIC:720.9252270758097\n",
      "ARIMA(0, 0, 1)x(0, 0, 1, 12)12 - AIC:2720.0559185265934\n",
      "ARIMA(0, 0, 1)x(0, 0, 2, 12)12 - AIC:323.4436688558393\n",
      "ARIMA(0, 0, 1)x(0, 1, 0, 12)12 - AIC:466.5607429809134\n",
      "ARIMA(0, 0, 1)x(0, 1, 1, 12)12 - AIC:291.62613896733023\n",
      "ARIMA(0, 0, 1)x(0, 1, 2, 12)12 - AIC:135.88293598957918\n",
      "ARIMA(0, 0, 1)x(0, 2, 0, 12)12 - AIC:324.41357896738714\n",
      "ARIMA(0, 0, 1)x(0, 2, 1, 12)12 - AIC:136.5371921057493\n",
      "ARIMA(0, 0, 1)x(0, 2, 2, 12)12 - AIC:8.0\n",
      "ARIMA(0, 0, 1)x(1, 0, 0, 12)12 - AIC:499.5911493403393\n",
      "ARIMA(0, 0, 1)x(1, 0, 1, 12)12 - AIC:2552.2159266890294\n",
      "ARIMA(0, 0, 1)x(1, 0, 2, 12)12 - AIC:299.1318451366646\n",
      "ARIMA(0, 0, 1)x(1, 1, 0, 12)12 - AIC:319.9884876946867\n",
      "ARIMA(0, 0, 1)x(1, 1, 1, 12)12 - AIC:291.8725576455707\n",
      "ARIMA(0, 0, 1)x(1, 1, 2, 12)12 - AIC:137.63409914584378\n",
      "ARIMA(0, 0, 1)x(1, 2, 0, 12)12 - AIC:163.98834428111766\n",
      "ARIMA(0, 0, 1)x(1, 2, 1, 12)12 - AIC:137.7065282998156\n",
      "ARIMA(0, 0, 1)x(1, 2, 2, 12)12 - AIC:10.0\n",
      "ARIMA(0, 0, 1)x(2, 0, 0, 12)12 - AIC:321.9645277015651\n",
      "ARIMA(0, 0, 1)x(2, 0, 1, 12)12 - AIC:324.9003335680781\n",
      "ARIMA(0, 0, 1)x(2, 0, 2, 12)12 - AIC:296.9869480489807\n",
      "ARIMA(0, 0, 1)x(2, 1, 0, 12)12 - AIC:160.8541004925005\n",
      "ARIMA(0, 0, 1)x(2, 1, 1, 12)12 - AIC:162.63152998984538\n",
      "ARIMA(0, 0, 1)x(2, 1, 2, 12)12 - AIC:134.83906549926724\n",
      "ARIMA(0, 0, 1)x(2, 2, 0, 12)12 - AIC:8.0\n",
      "ARIMA(0, 0, 1)x(2, 2, 1, 12)12 - AIC:10.0\n",
      "ARIMA(0, 0, 1)x(2, 2, 2, 12)12 - AIC:12.0\n",
      "ARIMA(0, 0, 2)x(0, 0, 0, 12)12 - AIC:695.9854310935185\n",
      "ARIMA(0, 0, 2)x(0, 0, 1, 12)12 - AIC:2561.2810068046992\n",
      "ARIMA(0, 0, 2)x(0, 0, 2, 12)12 - AIC:311.1637201313143\n",
      "ARIMA(0, 0, 2)x(0, 1, 0, 12)12 - AIC:455.2093474618744\n",
      "ARIMA(0, 0, 2)x(0, 1, 1, 12)12 - AIC:279.99666891437056\n",
      "ARIMA(0, 0, 2)x(0, 1, 2, 12)12 - AIC:121.51398875740577\n",
      "ARIMA(0, 0, 2)x(0, 2, 0, 12)12 - AIC:311.8417385725276\n",
      "ARIMA(0, 0, 2)x(0, 2, 1, 12)12 - AIC:121.64768702815408\n",
      "ARIMA(0, 0, 2)x(0, 2, 2, 12)12 - AIC:10.0\n",
      "ARIMA(0, 0, 2)x(1, 0, 0, 12)12 - AIC:501.0109862074115\n",
      "ARIMA(0, 0, 2)x(1, 0, 1, 12)12 - AIC:2479.1657652174104\n",
      "ARIMA(0, 0, 2)x(1, 0, 2, 12)12 - AIC:286.1992771637027\n",
      "ARIMA(0, 0, 2)x(1, 1, 0, 12)12 - AIC:321.88005844738507\n",
      "ARIMA(0, 0, 2)x(1, 1, 1, 12)12 - AIC:281.78833393068084\n",
      "ARIMA(0, 0, 2)x(1, 1, 2, 12)12 - AIC:122.18811025322054\n",
      "ARIMA(0, 0, 2)x(1, 2, 0, 12)12 - AIC:164.1823761223217\n",
      "ARIMA(0, 0, 2)x(1, 2, 1, 12)12 - AIC:123.9614394769323\n",
      "ARIMA(0, 0, 2)x(1, 2, 2, 12)12 - AIC:12.0\n",
      "ARIMA(0, 0, 2)x(2, 0, 0, 12)12 - AIC:323.58227595447886\n",
      "ARIMA(0, 0, 2)x(2, 0, 1, 12)12 - AIC:323.16769538692654\n",
      "ARIMA(0, 0, 2)x(2, 0, 2, 12)12 - AIC:285.8683355130299\n",
      "ARIMA(0, 0, 2)x(2, 1, 0, 12)12 - AIC:163.5781953087251\n",
      "ARIMA(0, 0, 2)x(2, 1, 1, 12)12 - AIC:164.35074076256413\n",
      "ARIMA(0, 0, 2)x(2, 1, 2, 12)12 - AIC:122.56823097285734\n",
      "ARIMA(0, 0, 2)x(2, 2, 0, 12)12 - AIC:10.0\n",
      "ARIMA(0, 0, 2)x(2, 2, 1, 12)12 - AIC:12.0\n",
      "ARIMA(0, 0, 2)x(2, 2, 2, 12)12 - AIC:14.0\n",
      "ARIMA(0, 1, 0)x(0, 0, 0, 12)12 - AIC:677.8947668414504\n",
      "ARIMA(0, 1, 0)x(0, 0, 1, 12)12 - AIC:1565.8594907931072\n",
      "ARIMA(0, 1, 0)x(0, 0, 2, 12)12 - AIC:315.54758780433906\n",
      "ARIMA(0, 1, 0)x(0, 1, 0, 12)12 - AIC:486.6378567211039\n",
      "ARIMA(0, 1, 0)x(0, 1, 1, 12)12 - AIC:304.96712281679555\n",
      "ARIMA(0, 1, 0)x(0, 1, 2, 12)12 - AIC:139.90087903199907\n",
      "ARIMA(0, 1, 0)x(0, 2, 0, 12)12 - AIC:334.97781229775893\n",
      "ARIMA(0, 1, 0)x(0, 2, 1, 12)12 - AIC:139.41258905664606\n",
      "ARIMA(0, 1, 0)x(0, 2, 2, 12)12 - AIC:6.0\n",
      "ARIMA(0, 1, 0)x(1, 0, 0, 12)12 - AIC:497.7889663004408\n",
      "ARIMA(0, 1, 0)x(1, 0, 1, 12)12 - AIC:1324.430161169907\n",
      "ARIMA(0, 1, 0)x(1, 0, 2, 12)12 - AIC:306.3042741397358\n",
      "ARIMA(0, 1, 0)x(1, 1, 0, 12)12 - AIC:319.7714068109212\n",
      "ARIMA(0, 1, 0)x(1, 1, 1, 12)12 - AIC:306.91132001514467\n",
      "ARIMA(0, 1, 0)x(1, 1, 2, 12)12 - AIC:141.94935419827473\n",
      "ARIMA(0, 1, 0)x(1, 2, 0, 12)12 - AIC:152.4285210659634\n",
      "ARIMA(0, 1, 0)x(1, 2, 1, 12)12 - AIC:141.41111741671125\n",
      "ARIMA(0, 1, 0)x(1, 2, 2, 12)12 - AIC:8.0\n",
      "ARIMA(0, 1, 0)x(2, 0, 0, 12)12 - AIC:317.69402237661177\n",
      "ARIMA(0, 1, 0)x(2, 0, 1, 12)12 - AIC:981.4893865355697\n",
      "ARIMA(0, 1, 0)x(2, 0, 2, 12)12 - AIC:307.0515052415531\n",
      "ARIMA(0, 1, 0)x(2, 1, 0, 12)12 - AIC:153.33829187964875\n",
      "ARIMA(0, 1, 0)x(2, 1, 1, 12)12 - AIC:155.0384623709436\n",
      "ARIMA(0, 1, 0)x(2, 1, 2, 12)12 - AIC:143.81214702354484\n",
      "ARIMA(0, 1, 0)x(2, 2, 0, 12)12 - AIC:6.0\n",
      "ARIMA(0, 1, 0)x(2, 2, 1, 12)12 - AIC:8.0\n",
      "ARIMA(0, 1, 0)x(2, 2, 2, 12)12 - AIC:10.0\n",
      "ARIMA(0, 1, 1)x(0, 0, 0, 12)12 - AIC:649.9056176817387\n",
      "ARIMA(0, 1, 1)x(0, 0, 1, 12)12 - AIC:1755.237404185983\n",
      "ARIMA(0, 1, 1)x(0, 0, 2, 12)12 - AIC:295.4984100653544\n",
      "ARIMA(0, 1, 1)x(0, 1, 0, 12)12 - AIC:458.87055484828005\n",
      "ARIMA(0, 1, 1)x(0, 1, 1, 12)12 - AIC:279.58062333392604\n",
      "ARIMA(0, 1, 1)x(0, 1, 2, 12)12 - AIC:124.2514837402138\n",
      "ARIMA(0, 1, 1)x(0, 2, 0, 12)12 - AIC:317.19576972399113\n",
      "ARIMA(0, 1, 1)x(0, 2, 1, 12)12 - AIC:123.18774195998722\n",
      "ARIMA(0, 1, 1)x(0, 2, 2, 12)12 - AIC:8.0\n",
      "ARIMA(0, 1, 1)x(1, 0, 0, 12)12 - AIC:486.1832977442603\n",
      "ARIMA(0, 1, 1)x(1, 0, 1, 12)12 - AIC:1438.207088734434\n",
      "ARIMA(0, 1, 1)x(1, 0, 2, 12)12 - AIC:289.02076553258684\n",
      "ARIMA(0, 1, 1)x(1, 1, 0, 12)12 - AIC:310.75743684174046\n",
      "ARIMA(0, 1, 1)x(1, 1, 1, 12)12 - AIC:281.55766214612464\n",
      "ARIMA(0, 1, 1)x(1, 1, 2, 12)12 - AIC:126.07741157131429\n",
      "ARIMA(0, 1, 1)x(1, 2, 0, 12)12 - AIC:154.41754102597955\n",
      "ARIMA(0, 1, 1)x(1, 2, 1, 12)12 - AIC:125.1519907891841\n",
      "ARIMA(0, 1, 1)x(1, 2, 2, 12)12 - AIC:10.0\n",
      "ARIMA(0, 1, 1)x(2, 0, 0, 12)12 - AIC:311.8590674241305\n",
      "ARIMA(0, 1, 1)x(2, 0, 1, 12)12 - AIC:963.3893987574571\n",
      "ARIMA(0, 1, 1)x(2, 0, 2, 12)12 - AIC:287.508895419754\n",
      "ARIMA(0, 1, 1)x(2, 1, 0, 12)12 - AIC:149.57227369322257\n",
      "ARIMA(0, 1, 1)x(2, 1, 1, 12)12 - AIC:151.4343937459838\n",
      "ARIMA(0, 1, 1)x(2, 1, 2, 12)12 - AIC:128.075254200558\n",
      "ARIMA(0, 1, 1)x(2, 2, 0, 12)12 - AIC:8.0\n",
      "ARIMA(0, 1, 1)x(2, 2, 1, 12)12 - AIC:10.0\n",
      "ARIMA(0, 1, 1)x(2, 2, 2, 12)12 - AIC:12.0\n",
      "ARIMA(0, 1, 2)x(0, 0, 0, 12)12 - AIC:634.8844283595478\n",
      "ARIMA(0, 1, 2)x(0, 0, 1, 12)12 - AIC:2517.1267860266253\n",
      "ARIMA(0, 1, 2)x(0, 0, 2, 12)12 - AIC:283.6008764187061\n",
      "ARIMA(0, 1, 2)x(0, 1, 0, 12)12 - AIC:447.58573969526844\n",
      "ARIMA(0, 1, 2)x(0, 1, 1, 12)12 - AIC:269.8325945163636\n",
      "ARIMA(0, 1, 2)x(0, 1, 2, 12)12 - AIC:109.97825475169958\n",
      "ARIMA(0, 1, 2)x(0, 2, 0, 12)12 - AIC:305.0344535943162\n",
      "ARIMA(0, 1, 2)x(0, 2, 1, 12)12 - AIC:112.17910628362517\n",
      "ARIMA(0, 1, 2)x(0, 2, 2, 12)12 - AIC:10.0\n",
      "ARIMA(0, 1, 2)x(1, 0, 0, 12)12 - AIC:487.498691267985\n",
      "ARIMA(0, 1, 2)x(1, 0, 1, 12)12 - AIC:2529.9726794863795\n",
      "ARIMA(0, 1, 2)x(1, 0, 2, 12)12 - AIC:276.4075358740404\n",
      "ARIMA(0, 1, 2)x(1, 1, 0, 12)12 - AIC:310.73389307281195\n",
      "ARIMA(0, 1, 2)x(1, 1, 1, 12)12 - AIC:271.7935696069867\n",
      "ARIMA(0, 1, 2)x(1, 1, 2, 12)12 - AIC:113.1412934985995\n",
      "ARIMA(0, 1, 2)x(1, 2, 0, 12)12 - AIC:154.69701034323816\n",
      "ARIMA(0, 1, 2)x(1, 2, 1, 12)12 - AIC:113.38656738308808\n",
      "ARIMA(0, 1, 2)x(1, 2, 2, 12)12 - AIC:12.0\n",
      "ARIMA(0, 1, 2)x(2, 0, 0, 12)12 - AIC:313.4823847170241\n",
      "ARIMA(0, 1, 2)x(2, 0, 1, 12)12 - AIC:842.1141879112665\n",
      "ARIMA(0, 1, 2)x(2, 0, 2, 12)12 - AIC:275.7436505656673\n",
      "ARIMA(0, 1, 2)x(2, 1, 0, 12)12 - AIC:151.19056457882218\n",
      "ARIMA(0, 1, 2)x(2, 1, 1, 12)12 - AIC:153.3878080705848\n",
      "ARIMA(0, 1, 2)x(2, 1, 2, 12)12 - AIC:113.94876743386742\n",
      "ARIMA(0, 1, 2)x(2, 2, 0, 12)12 - AIC:10.0\n",
      "ARIMA(0, 1, 2)x(2, 2, 1, 12)12 - AIC:12.0\n",
      "ARIMA(0, 1, 2)x(2, 2, 2, 12)12 - AIC:14.0\n",
      "ARIMA(0, 2, 0)x(0, 0, 0, 12)12 - AIC:710.1125557024402\n",
      "ARIMA(0, 2, 0)x(0, 0, 1, 12)12 - AIC:1381.2884204345705\n",
      "ARIMA(0, 2, 0)x(0, 0, 2, 12)12 - AIC:319.131703209972\n",
      "ARIMA(0, 2, 0)x(0, 1, 0, 12)12 - AIC:509.89680952051333\n",
      "ARIMA(0, 2, 0)x(0, 1, 1, 12)12 - AIC:315.58973980075683\n",
      "ARIMA(0, 2, 0)x(0, 1, 2, 12)12 - AIC:128.8600146180435\n",
      "ARIMA(0, 2, 0)x(0, 2, 0, 12)12 - AIC:342.9544197962702\n",
      "ARIMA(0, 2, 0)x(0, 2, 1, 12)12 - AIC:127.63190004588702\n",
      "ARIMA(0, 2, 0)x(0, 2, 2, 12)12 - AIC:6.0\n",
      "ARIMA(0, 2, 0)x(1, 0, 0, 12)12 - AIC:520.887712617653\n",
      "ARIMA(0, 2, 0)x(1, 0, 1, 12)12 - AIC:1172.9653916755758\n",
      "ARIMA(0, 2, 0)x(1, 0, 2, 12)12 - AIC:311.3535200783278\n",
      "ARIMA(0, 2, 0)x(1, 1, 0, 12)12 - AIC:331.2504844685115\n",
      "ARIMA(0, 2, 0)x(1, 1, 1, 12)12 - AIC:317.5552326946505\n",
      "ARIMA(0, 2, 0)x(1, 1, 2, 12)12 - AIC:130.8845696163819\n",
      "ARIMA(0, 2, 0)x(1, 2, 0, 12)12 - AIC:141.6839867329764\n",
      "ARIMA(0, 2, 0)x(1, 2, 1, 12)12 - AIC:129.5207470616439\n",
      "ARIMA(0, 2, 0)x(1, 2, 2, 12)12 - AIC:8.0\n",
      "ARIMA(0, 2, 0)x(2, 0, 0, 12)12 - AIC:327.59550043149045\n",
      "ARIMA(0, 2, 0)x(2, 0, 1, 12)12 - AIC:916.9836733120899\n",
      "ARIMA(0, 2, 0)x(2, 0, 2, 12)12 - AIC:312.2057126442319\n",
      "ARIMA(0, 2, 0)x(2, 1, 0, 12)12 - AIC:143.52744982862214\n",
      "ARIMA(0, 2, 0)x(2, 1, 1, 12)12 - AIC:145.0966855017645\n",
      "ARIMA(0, 2, 0)x(2, 1, 2, 12)12 - AIC:132.67725613806724\n",
      "ARIMA(0, 2, 0)x(2, 2, 0, 12)12 - AIC:6.0\n",
      "ARIMA(0, 2, 0)x(2, 2, 1, 12)12 - AIC:8.0\n",
      "ARIMA(0, 2, 0)x(2, 2, 2, 12)12 - AIC:10.0\n",
      "ARIMA(0, 2, 1)x(0, 0, 0, 12)12 - AIC:652.8685965207454\n",
      "ARIMA(0, 2, 1)x(0, 0, 1, 12)12 - AIC:1332.1390254085495\n",
      "ARIMA(0, 2, 1)x(0, 0, 2, 12)12 - AIC:288.6859049830577\n",
      "ARIMA(0, 2, 1)x(0, 1, 0, 12)12 - AIC:463.03465442793697\n",
      "ARIMA(0, 2, 1)x(0, 1, 1, 12)12 - AIC:282.24604671049434\n",
      "ARIMA(0, 2, 1)x(0, 1, 2, 12)12 - AIC:114.86320979646615\n",
      "ARIMA(0, 2, 1)x(0, 2, 0, 12)12 - AIC:310.3285223971902\n",
      "ARIMA(0, 2, 1)x(0, 2, 1, 12)12 - AIC:112.085334499429\n",
      "ARIMA(0, 2, 1)x(0, 2, 2, 12)12 - AIC:8.0\n",
      "ARIMA(0, 2, 1)x(1, 0, 0, 12)12 - AIC:489.94585607344493\n",
      "ARIMA(0, 2, 1)x(1, 0, 1, 12)12 - AIC:1561.7991537170185\n",
      "ARIMA(0, 2, 1)x(1, 0, 2, 12)12 - AIC:284.9086564468336\n",
      "ARIMA(0, 2, 1)x(1, 1, 0, 12)12 - AIC:310.986472869276\n",
      "ARIMA(0, 2, 1)x(1, 1, 1, 12)12 - AIC:284.23540532552573\n",
      "ARIMA(0, 2, 1)x(1, 1, 2, 12)12 - AIC:116.66600083727968\n",
      "ARIMA(0, 2, 1)x(1, 2, 0, 12)12 - AIC:143.279359104705\n",
      "ARIMA(0, 2, 1)x(1, 2, 1, 12)12 - AIC:116.34622123331783\n",
      "ARIMA(0, 2, 1)x(1, 2, 2, 12)12 - AIC:10.0\n",
      "ARIMA(0, 2, 1)x(2, 0, 0, 12)12 - AIC:310.50562447089936\n",
      "ARIMA(0, 2, 1)x(2, 0, 1, 12)12 - AIC:877.2212832264111\n",
      "ARIMA(0, 2, 1)x(2, 0, 2, 12)12 - AIC:284.4723865132418\n",
      "ARIMA(0, 2, 1)x(2, 1, 0, 12)12 - AIC:142.29873089402332\n",
      "ARIMA(0, 2, 1)x(2, 1, 1, 12)12 - AIC:146.6232637751646\n",
      "ARIMA(0, 2, 1)x(2, 1, 2, 12)12 - AIC:117.89101545939438\n",
      "ARIMA(0, 2, 1)x(2, 2, 0, 12)12 - AIC:8.0\n",
      "ARIMA(0, 2, 1)x(2, 2, 1, 12)12 - AIC:10.0\n",
      "ARIMA(0, 2, 1)x(2, 2, 2, 12)12 - AIC:12.0\n",
      "ARIMA(0, 2, 2)x(0, 0, 0, 12)12 - AIC:628.8859101990633\n",
      "ARIMA(0, 2, 2)x(0, 0, 1, 12)12 - AIC:1252.0460522138846\n",
      "ARIMA(0, 2, 2)x(0, 0, 2, 12)12 - AIC:273.6722936403859\n",
      "ARIMA(0, 2, 2)x(0, 1, 0, 12)12 - AIC:440.18034414422294\n",
      "ARIMA(0, 2, 2)x(0, 1, 1, 12)12 - AIC:262.0630438055099\n",
      "ARIMA(0, 2, 2)x(0, 1, 2, 12)12 - AIC:99.04347046806078\n",
      "ARIMA(0, 2, 2)x(0, 2, 0, 12)12 - AIC:294.7466797054432\n",
      "ARIMA(0, 2, 2)x(0, 2, 1, 12)12 - AIC:96.60021511962468\n",
      "ARIMA(0, 2, 2)x(0, 2, 2, 12)12 - AIC:10.0\n",
      "ARIMA(0, 2, 2)x(1, 0, 0, 12)12 - AIC:482.90037026071764\n",
      "ARIMA(0, 2, 2)x(1, 0, 1, 12)12 - AIC:1563.5679355380544\n",
      "ARIMA(0, 2, 2)x(1, 0, 2, 12)12 - AIC:269.3540741030645\n",
      "ARIMA(0, 2, 2)x(1, 1, 0, 12)12 - AIC:305.8984452751728\n",
      "ARIMA(0, 2, 2)x(1, 1, 1, 12)12 - AIC:263.5280237452739\n",
      "ARIMA(0, 2, 2)x(1, 1, 2, 12)12 - AIC:101.0438183073472\n",
      "ARIMA(0, 2, 2)x(1, 2, 0, 12)12 - AIC:145.5934640599793\n",
      "ARIMA(0, 2, 2)x(1, 2, 1, 12)12 - AIC:98.85136146909042\n",
      "ARIMA(0, 2, 2)x(1, 2, 2, 12)12 - AIC:12.0\n",
      "ARIMA(0, 2, 2)x(2, 0, 0, 12)12 - AIC:306.32807721643076\n",
      "ARIMA(0, 2, 2)x(2, 0, 1, 12)12 - AIC:974.0312330000622\n",
      "ARIMA(0, 2, 2)x(2, 0, 2, 12)12 - AIC:269.3373750304829\n",
      "ARIMA(0, 2, 2)x(2, 1, 0, 12)12 - AIC:140.89289997398282\n",
      "ARIMA(0, 2, 2)x(2, 1, 1, 12)12 - AIC:143.23782705269957\n",
      "ARIMA(0, 2, 2)x(2, 1, 2, 12)12 - AIC:107.46171728744392\n",
      "ARIMA(0, 2, 2)x(2, 2, 0, 12)12 - AIC:10.0\n",
      "ARIMA(0, 2, 2)x(2, 2, 1, 12)12 - AIC:12.0\n",
      "ARIMA(0, 2, 2)x(2, 2, 2, 12)12 - AIC:14.0\n",
      "ARIMA(1, 0, 0)x(0, 0, 0, 12)12 - AIC:692.1645522067713\n",
      "ARIMA(1, 0, 0)x(0, 0, 1, 12)12 - AIC:1510.8605569330957\n",
      "ARIMA(1, 0, 0)x(0, 0, 2, 12)12 - AIC:329.8577321597206\n",
      "ARIMA(1, 0, 0)x(0, 1, 0, 12)12 - AIC:479.4632147852136\n",
      "ARIMA(1, 0, 0)x(0, 1, 1, 12)12 - AIC:304.2077675160961\n",
      "ARIMA(1, 0, 0)x(0, 1, 2, 12)12 - AIC:148.46866306823844\n",
      "ARIMA(1, 0, 0)x(0, 2, 0, 12)12 - AIC:338.2224810186686\n",
      "ARIMA(1, 0, 0)x(0, 2, 1, 12)12 - AIC:151.84507831803262\n",
      "ARIMA(1, 0, 0)x(0, 2, 2, 12)12 - AIC:8.0\n",
      "ARIMA(1, 0, 0)x(1, 0, 0, 12)12 - AIC:480.92593679352007\n",
      "ARIMA(1, 0, 0)x(1, 0, 1, 12)12 - AIC:1436.3224652577126\n",
      "ARIMA(1, 0, 0)x(1, 0, 2, 12)12 - AIC:311.9210583053407\n",
      "ARIMA(1, 0, 0)x(1, 1, 0, 12)12 - AIC:304.46646750845866\n",
      "ARIMA(1, 0, 0)x(1, 1, 1, 12)12 - AIC:304.5842692143847\n",
      "ARIMA(1, 0, 0)x(1, 1, 2, 12)12 - AIC:150.46626890972558\n",
      "ARIMA(1, 0, 0)x(1, 2, 0, 12)12 - AIC:151.38820367564057\n",
      "ARIMA(1, 0, 0)x(1, 2, 1, 12)12 - AIC:153.29394443542762\n",
      "ARIMA(1, 0, 0)x(1, 2, 2, 12)12 - AIC:10.0\n",
      "ARIMA(1, 0, 0)x(2, 0, 0, 12)12 - AIC:306.4639496842737\n",
      "ARIMA(1, 0, 0)x(2, 0, 1, 12)12 - AIC:307.9653339906727\n",
      "ARIMA(1, 0, 0)x(2, 0, 2, 12)12 - AIC:309.8109422859397\n",
      "ARIMA(1, 0, 0)x(2, 1, 0, 12)12 - AIC:148.47129149083798\n",
      "ARIMA(1, 0, 0)x(2, 1, 1, 12)12 - AIC:150.47090738532916\n",
      "ARIMA(1, 0, 0)x(2, 1, 2, 12)12 - AIC:152.46207036255294\n",
      "ARIMA(1, 0, 0)x(2, 2, 0, 12)12 - AIC:8.0\n",
      "ARIMA(1, 0, 0)x(2, 2, 1, 12)12 - AIC:10.0\n",
      "ARIMA(1, 0, 0)x(2, 2, 2, 12)12 - AIC:12.0\n",
      "ARIMA(1, 0, 1)x(0, 0, 0, 12)12 - AIC:665.7794442185865\n",
      "ARIMA(1, 0, 1)x(0, 0, 1, 12)12 - AIC:2733.2458356118836\n",
      "ARIMA(1, 0, 1)x(0, 0, 2, 12)12 - AIC:311.06823092413487\n",
      "ARIMA(1, 0, 1)x(0, 1, 0, 12)12 - AIC:468.36851958158826\n",
      "ARIMA(1, 0, 1)x(0, 1, 1, 12)12 - AIC:293.3422193965929\n",
      "ARIMA(1, 0, 1)x(0, 1, 2, 12)12 - AIC:137.44660513881084\n",
      "ARIMA(1, 0, 1)x(0, 2, 0, 12)12 - AIC:326.3604901193713\n",
      "ARIMA(1, 0, 1)x(0, 2, 1, 12)12 - AIC:140.00660548000647\n",
      "ARIMA(1, 0, 1)x(0, 2, 2, 12)12 - AIC:10.0\n",
      "ARIMA(1, 0, 1)x(1, 0, 0, 12)12 - AIC:482.57633238772127\n",
      "ARIMA(1, 0, 1)x(1, 0, 1, 12)12 - AIC:2576.5234678072916\n",
      "ARIMA(1, 0, 1)x(1, 0, 2, 12)12 - AIC:301.02799607034143\n",
      "ARIMA(1, 0, 1)x(1, 1, 0, 12)12 - AIC:306.0156002131805\n",
      "ARIMA(1, 0, 1)x(1, 1, 1, 12)12 - AIC:293.75131881230413\n",
      "ARIMA(1, 0, 1)x(1, 1, 2, 12)12 - AIC:139.59955600614057\n",
      "ARIMA(1, 0, 1)x(1, 2, 0, 12)12 - AIC:153.45916389462565\n",
      "ARIMA(1, 0, 1)x(1, 2, 1, 12)12 - AIC:138.879771240601\n",
      "ARIMA(1, 0, 1)x(1, 2, 2, 12)12 - AIC:12.0\n",
      "ARIMA(1, 0, 1)x(2, 0, 0, 12)12 - AIC:309.7096567887284\n",
      "ARIMA(1, 0, 1)x(2, 0, 1, 12)12 - AIC:310.2514705091809\n",
      "ARIMA(1, 0, 1)x(2, 0, 2, 12)12 - AIC:298.7793848600877\n",
      "ARIMA(1, 0, 1)x(2, 1, 0, 12)12 - AIC:148.6441533357484\n",
      "ARIMA(1, 0, 1)x(2, 1, 1, 12)12 - AIC:152.44503996181803\n",
      "ARIMA(1, 0, 1)x(2, 1, 2, 12)12 - AIC:136.32214371972498\n",
      "ARIMA(1, 0, 1)x(2, 2, 0, 12)12 - AIC:10.0\n",
      "ARIMA(1, 0, 1)x(2, 2, 1, 12)12 - AIC:12.0\n",
      "ARIMA(1, 0, 1)x(2, 2, 2, 12)12 - AIC:14.0\n",
      "ARIMA(1, 0, 2)x(0, 0, 0, 12)12 - AIC:652.5371565501313\n",
      "ARIMA(1, 0, 2)x(0, 0, 1, 12)12 - AIC:2645.639280992533\n",
      "ARIMA(1, 0, 2)x(0, 0, 2, 12)12 - AIC:298.3783963738303\n",
      "ARIMA(1, 0, 2)x(0, 1, 0, 12)12 - AIC:454.5162597159631\n",
      "ARIMA(1, 0, 2)x(0, 1, 1, 12)12 - AIC:277.7588927595009\n",
      "ARIMA(1, 0, 2)x(0, 1, 2, 12)12 - AIC:122.83844516180909\n",
      "ARIMA(1, 0, 2)x(0, 2, 0, 12)12 - AIC:311.96866882596834\n",
      "ARIMA(1, 0, 2)x(0, 2, 1, 12)12 - AIC:120.30242478450207\n",
      "ARIMA(1, 0, 2)x(0, 2, 2, 12)12 - AIC:12.0\n",
      "ARIMA(1, 0, 2)x(1, 0, 0, 12)12 - AIC:483.9435796163022\n",
      "ARIMA(1, 0, 2)x(1, 0, 1, 12)12 - AIC:2470.6998389231917\n",
      "ARIMA(1, 0, 2)x(1, 0, 2, 12)12 - AIC:290.9909373421584\n",
      "ARIMA(1, 0, 2)x(1, 1, 0, 12)12 - AIC:305.84607229012363\n",
      "ARIMA(1, 0, 2)x(1, 1, 1, 12)12 - AIC:279.74007319131977\n",
      "ARIMA(1, 0, 2)x(1, 1, 2, 12)12 - AIC:124.3797753241174\n",
      "ARIMA(1, 0, 2)x(1, 2, 0, 12)12 - AIC:153.23892083540275\n",
      "ARIMA(1, 0, 2)x(1, 2, 1, 12)12 - AIC:119.43868245332524\n",
      "ARIMA(1, 0, 2)x(1, 2, 2, 12)12 - AIC:14.0\n",
      "ARIMA(1, 0, 2)x(2, 0, 0, 12)12 - AIC:309.00667940426587\n",
      "ARIMA(1, 0, 2)x(2, 0, 1, 12)12 - AIC:310.819901097742\n",
      "ARIMA(1, 0, 2)x(2, 0, 2, 12)12 - AIC:286.25681742019754\n",
      "ARIMA(1, 0, 2)x(2, 1, 0, 12)12 - AIC:150.64208002488968\n",
      "ARIMA(1, 0, 2)x(2, 1, 1, 12)12 - AIC:152.69129636473625\n",
      "ARIMA(1, 0, 2)x(2, 1, 2, 12)12 - AIC:127.0475680581121\n",
      "ARIMA(1, 0, 2)x(2, 2, 0, 12)12 - AIC:12.0\n",
      "ARIMA(1, 0, 2)x(2, 2, 1, 12)12 - AIC:14.0\n",
      "ARIMA(1, 0, 2)x(2, 2, 2, 12)12 - AIC:16.0\n",
      "ARIMA(1, 1, 0)x(0, 0, 0, 12)12 - AIC:671.2513547541902\n",
      "ARIMA(1, 1, 0)x(0, 0, 1, 12)12 - AIC:1463.1361153292116\n",
      "ARIMA(1, 1, 0)x(0, 0, 2, 12)12 - AIC:313.80896143752324\n",
      "ARIMA(1, 1, 0)x(0, 1, 0, 12)12 - AIC:479.2003422281135\n",
      "ARIMA(1, 1, 0)x(0, 1, 1, 12)12 - AIC:300.21306116191005\n",
      "ARIMA(1, 1, 0)x(0, 1, 2, 12)12 - AIC:141.07356676711092\n",
      "ARIMA(1, 1, 0)x(0, 2, 0, 12)12 - AIC:332.3956597623955\n",
      "ARIMA(1, 1, 0)x(0, 2, 1, 12)12 - AIC:140.96246737935283\n",
      "ARIMA(1, 1, 0)x(0, 2, 2, 12)12 - AIC:8.0\n",
      "ARIMA(1, 1, 0)x(1, 0, 0, 12)12 - AIC:475.34036587858054\n",
      "ARIMA(1, 1, 0)x(1, 0, 1, 12)12 - AIC:1974.0360621866162\n",
      "ARIMA(1, 1, 0)x(1, 0, 2, 12)12 - AIC:305.36543120216095\n",
      "ARIMA(1, 1, 0)x(1, 1, 0, 12)12 - AIC:300.62709013454054\n",
      "ARIMA(1, 1, 0)x(1, 1, 1, 12)12 - AIC:302.3264992505022\n",
      "ARIMA(1, 1, 0)x(1, 1, 2, 12)12 - AIC:143.05792041333655\n",
      "ARIMA(1, 1, 0)x(1, 2, 0, 12)12 - AIC:140.97940432820582\n",
      "ARIMA(1, 1, 0)x(1, 2, 1, 12)12 - AIC:142.44494457930153\n",
      "ARIMA(1, 1, 0)x(1, 2, 2, 12)12 - AIC:10.0\n",
      "ARIMA(1, 1, 0)x(2, 0, 0, 12)12 - AIC:301.76885242895906\n",
      "ARIMA(1, 1, 0)x(2, 0, 1, 12)12 - AIC:894.839780667729\n",
      "ARIMA(1, 1, 0)x(2, 0, 2, 12)12 - AIC:305.54893724243266\n",
      "ARIMA(1, 1, 0)x(2, 1, 0, 12)12 - AIC:141.03361172489878\n",
      "ARIMA(1, 1, 0)x(2, 1, 1, 12)12 - AIC:142.93320305082423\n",
      "ARIMA(1, 1, 0)x(2, 1, 2, 12)12 - AIC:144.9332118571228\n",
      "ARIMA(1, 1, 0)x(2, 2, 0, 12)12 - AIC:8.0\n",
      "ARIMA(1, 1, 0)x(2, 2, 1, 12)12 - AIC:10.0\n",
      "ARIMA(1, 1, 0)x(2, 2, 2, 12)12 - AIC:12.0\n",
      "ARIMA(1, 1, 1)x(0, 0, 0, 12)12 - AIC:649.0318019835207\n",
      "ARIMA(1, 1, 1)x(0, 0, 1, 12)12 - AIC:2489.3766025498894\n",
      "ARIMA(1, 1, 1)x(0, 0, 2, 12)12 - AIC:296.29257055434306\n",
      "ARIMA(1, 1, 1)x(0, 1, 0, 12)12 - AIC:460.4762687610352\n",
      "ARIMA(1, 1, 1)x(0, 1, 1, 12)12 - AIC:281.3873006939387\n",
      "ARIMA(1, 1, 1)x(0, 1, 2, 12)12 - AIC:126.23923691794207\n",
      "ARIMA(1, 1, 1)x(0, 2, 0, 12)12 - AIC:317.99077543476403\n",
      "ARIMA(1, 1, 1)x(0, 2, 1, 12)12 - AIC:127.02337312431494\n",
      "ARIMA(1, 1, 1)x(0, 2, 2, 12)12 - AIC:10.0\n",
      "ARIMA(1, 1, 1)x(1, 0, 0, 12)12 - AIC:469.52503546608756\n",
      "ARIMA(1, 1, 1)x(1, 0, 1, 12)12 - AIC:2572.86145830282\n",
      "ARIMA(1, 1, 1)x(1, 0, 2, 12)12 - AIC:289.5032098686701\n",
      "ARIMA(1, 1, 1)x(1, 1, 0, 12)12 - AIC:297.78754395373835\n",
      "ARIMA(1, 1, 1)x(1, 1, 1, 12)12 - AIC:283.3661017054992\n",
      "ARIMA(1, 1, 1)x(1, 1, 2, 12)12 - AIC:128.07390204061147\n",
      "ARIMA(1, 1, 1)x(1, 2, 0, 12)12 - AIC:139.8988438957302\n",
      "ARIMA(1, 1, 1)x(1, 2, 1, 12)12 - AIC:126.41574490538888\n",
      "ARIMA(1, 1, 1)x(1, 2, 2, 12)12 - AIC:12.0\n",
      "ARIMA(1, 1, 1)x(2, 0, 0, 12)12 - AIC:304.8135321454453\n",
      "ARIMA(1, 1, 1)x(2, 0, 1, 12)12 - AIC:830.6496796428212\n",
      "ARIMA(1, 1, 1)x(2, 0, 2, 12)12 - AIC:289.17547265763955\n",
      "ARIMA(1, 1, 1)x(2, 1, 0, 12)12 - AIC:138.33714365181072\n",
      "ARIMA(1, 1, 1)x(2, 1, 1, 12)12 - AIC:140.32911071584297\n",
      "ARIMA(1, 1, 1)x(2, 1, 2, 12)12 - AIC:130.25013647041573\n",
      "ARIMA(1, 1, 1)x(2, 2, 0, 12)12 - AIC:10.0\n",
      "ARIMA(1, 1, 1)x(2, 2, 1, 12)12 - AIC:12.0\n",
      "ARIMA(1, 1, 1)x(2, 2, 2, 12)12 - AIC:14.0\n",
      "ARIMA(1, 1, 2)x(0, 0, 0, 12)12 - AIC:636.8790377891133\n",
      "ARIMA(1, 1, 2)x(0, 0, 1, 12)12 - AIC:159.43122796639676\n",
      "ARIMA(1, 1, 2)x(0, 0, 2, 12)12 - AIC:280.94583111899993\n",
      "ARIMA(1, 1, 2)x(0, 1, 0, 12)12 - AIC:449.4788858975145\n",
      "ARIMA(1, 1, 2)x(0, 1, 1, 12)12 - AIC:270.58145890938914\n",
      "ARIMA(1, 1, 2)x(0, 1, 2, 12)12 - AIC:110.6498911404205\n",
      "ARIMA(1, 1, 2)x(0, 2, 0, 12)12 - AIC:305.7151397158987\n",
      "ARIMA(1, 1, 2)x(0, 2, 1, 12)12 - AIC:114.55998977361163\n",
      "ARIMA(1, 1, 2)x(0, 2, 2, 12)12 - AIC:12.0\n",
      "ARIMA(1, 1, 2)x(1, 0, 0, 12)12 - AIC:471.0555765035254\n",
      "ARIMA(1, 1, 2)x(1, 0, 1, 12)12 - AIC:282.55821268406316\n",
      "ARIMA(1, 1, 2)x(1, 0, 2, 12)12 - AIC:278.2303009925595\n",
      "ARIMA(1, 1, 2)x(1, 1, 0, 12)12 - AIC:300.33184331530055\n",
      "ARIMA(1, 1, 2)x(1, 1, 1, 12)12 - AIC:273.2015340057131\n",
      "ARIMA(1, 1, 2)x(1, 1, 2, 12)12 - AIC:110.8673824800235\n",
      "ARIMA(1, 1, 2)x(1, 2, 0, 12)12 - AIC:142.46380187452252\n",
      "ARIMA(1, 1, 2)x(1, 2, 1, 12)12 - AIC:111.93273105910215\n",
      "ARIMA(1, 1, 2)x(1, 2, 2, 12)12 - AIC:14.0\n",
      "ARIMA(1, 1, 2)x(2, 0, 0, 12)12 - AIC:302.21776817227806\n",
      "ARIMA(1, 1, 2)x(2, 0, 1, 12)12 - AIC:951.4413229325374\n",
      "ARIMA(1, 1, 2)x(2, 0, 2, 12)12 - AIC:278.5193939092397\n",
      "ARIMA(1, 1, 2)x(2, 1, 0, 12)12 - AIC:140.83063484531496\n",
      "ARIMA(1, 1, 2)x(2, 1, 1, 12)12 - AIC:142.23004676548504\n",
      "ARIMA(1, 1, 2)x(2, 1, 2, 12)12 - AIC:112.8654766381805\n",
      "ARIMA(1, 1, 2)x(2, 2, 0, 12)12 - AIC:12.0\n",
      "ARIMA(1, 1, 2)x(2, 2, 1, 12)12 - AIC:14.0\n",
      "ARIMA(1, 1, 2)x(2, 2, 2, 12)12 - AIC:16.0\n",
      "ARIMA(1, 2, 0)x(0, 0, 0, 12)12 - AIC:691.2298181871188\n",
      "ARIMA(1, 2, 0)x(0, 0, 1, 12)12 - AIC:1550.667932111822\n",
      "ARIMA(1, 2, 0)x(0, 0, 2, 12)12 - AIC:314.20978872994607\n",
      "ARIMA(1, 2, 0)x(0, 1, 0, 12)12 - AIC:487.72549582761314\n",
      "ARIMA(1, 2, 0)x(0, 1, 1, 12)12 - AIC:301.91514986777196\n",
      "ARIMA(1, 2, 0)x(0, 1, 2, 12)12 - AIC:130.7732394709235\n",
      "ARIMA(1, 2, 0)x(0, 2, 0, 12)12 - AIC:326.7564415658333\n",
      "ARIMA(1, 2, 0)x(0, 2, 1, 12)12 - AIC:129.58856438132653\n",
      "ARIMA(1, 2, 0)x(0, 2, 2, 12)12 - AIC:8.0\n",
      "ARIMA(1, 2, 0)x(1, 0, 0, 12)12 - AIC:485.7746885900548\n",
      "ARIMA(1, 2, 0)x(1, 0, 1, 12)12 - AIC:1185.7132206296594\n",
      "ARIMA(1, 2, 0)x(1, 0, 2, 12)12 - AIC:303.73329930675254\n",
      "ARIMA(1, 2, 0)x(1, 1, 0, 12)12 - AIC:302.05521432253\n",
      "ARIMA(1, 2, 0)x(1, 1, 1, 12)12 - AIC:302.47454706115576\n",
      "ARIMA(1, 2, 0)x(1, 1, 2, 12)12 - AIC:132.87727299122776\n",
      "ARIMA(1, 2, 0)x(1, 2, 0, 12)12 - AIC:129.59004245503513\n",
      "ARIMA(1, 2, 0)x(1, 2, 1, 12)12 - AIC:131.58851842603238\n",
      "ARIMA(1, 2, 0)x(1, 2, 2, 12)12 - AIC:10.0\n",
      "ARIMA(1, 2, 0)x(2, 0, 0, 12)12 - AIC:303.8385216914199\n",
      "ARIMA(1, 2, 0)x(2, 0, 1, 12)12 - AIC:1025.0143843325977\n",
      "ARIMA(1, 2, 0)x(2, 0, 2, 12)12 - AIC:303.8302914129712\n",
      "ARIMA(1, 2, 0)x(2, 1, 0, 12)12 - AIC:130.86502683977983\n",
      "ARIMA(1, 2, 0)x(2, 1, 1, 12)12 - AIC:132.55791428394133\n",
      "ARIMA(1, 2, 0)x(2, 1, 2, 12)12 - AIC:134.6001640053621\n",
      "ARIMA(1, 2, 0)x(2, 2, 0, 12)12 - AIC:8.0\n",
      "ARIMA(1, 2, 0)x(2, 2, 1, 12)12 - AIC:10.0\n",
      "ARIMA(1, 2, 0)x(2, 2, 2, 12)12 - AIC:12.0\n",
      "ARIMA(1, 2, 1)x(0, 0, 0, 12)12 - AIC:647.518304878688\n",
      "ARIMA(1, 2, 1)x(0, 0, 1, 12)12 - AIC:2429.001551891228\n",
      "ARIMA(1, 2, 1)x(0, 0, 2, 12)12 - AIC:288.0088549033296\n",
      "ARIMA(1, 2, 1)x(0, 1, 0, 12)12 - AIC:455.98684119703546\n",
      "ARIMA(1, 2, 1)x(0, 1, 1, 12)12 - AIC:278.8955672587477\n",
      "ARIMA(1, 2, 1)x(0, 1, 2, 12)12 - AIC:116.13948298200683\n",
      "ARIMA(1, 2, 1)x(0, 2, 0, 12)12 - AIC:308.3397535601587\n",
      "ARIMA(1, 2, 1)x(0, 2, 1, 12)12 - AIC:116.3050743699645\n",
      "ARIMA(1, 2, 1)x(0, 2, 2, 12)12 - AIC:10.0\n",
      "ARIMA(1, 2, 1)x(1, 0, 0, 12)12 - AIC:470.8350262821525\n",
      "ARIMA(1, 2, 1)x(1, 0, 1, 12)12 - AIC:2380.9907632170894\n",
      "ARIMA(1, 2, 1)x(1, 0, 2, 12)12 - AIC:284.08040987449414\n",
      "ARIMA(1, 2, 1)x(1, 1, 0, 12)12 - AIC:293.0917446828871\n",
      "ARIMA(1, 2, 1)x(1, 1, 1, 12)12 - AIC:280.8604639141794\n",
      "ARIMA(1, 2, 1)x(1, 1, 2, 12)12 - AIC:117.96621373368535\n",
      "ARIMA(1, 2, 1)x(1, 2, 0, 12)12 - AIC:128.4645617485021\n",
      "ARIMA(1, 2, 1)x(1, 2, 1, 12)12 - AIC:110.19049714044638\n",
      "ARIMA(1, 2, 1)x(1, 2, 2, 12)12 - AIC:12.0\n",
      "ARIMA(1, 2, 1)x(2, 0, 0, 12)12 - AIC:293.7678013029329\n",
      "ARIMA(1, 2, 1)x(2, 0, 1, 12)12 - AIC:1023.0409360961742\n",
      "ARIMA(1, 2, 1)x(2, 0, 2, 12)12 - AIC:284.1402254199471\n",
      "ARIMA(1, 2, 1)x(2, 1, 0, 12)12 - AIC:130.67250513578227\n",
      "ARIMA(1, 2, 1)x(2, 1, 1, 12)12 - AIC:132.14094996462563\n",
      "ARIMA(1, 2, 1)x(2, 1, 2, 12)12 - AIC:120.20577587447423\n",
      "ARIMA(1, 2, 1)x(2, 2, 0, 12)12 - AIC:10.0\n",
      "ARIMA(1, 2, 1)x(2, 2, 1, 12)12 - AIC:12.0\n",
      "ARIMA(1, 2, 1)x(2, 2, 2, 12)12 - AIC:14.0\n",
      "ARIMA(1, 2, 2)x(0, 0, 0, 12)12 - AIC:629.3897469545157\n",
      "ARIMA(1, 2, 2)x(0, 0, 1, 12)12 - AIC:869.8123678823004\n",
      "ARIMA(1, 2, 2)x(0, 0, 2, 12)12 - AIC:274.81140388369033\n",
      "ARIMA(1, 2, 2)x(0, 1, 0, 12)12 - AIC:442.08163418069716\n",
      "ARIMA(1, 2, 2)x(0, 1, 1, 12)12 - AIC:263.81010661533776\n",
      "ARIMA(1, 2, 2)x(0, 1, 2, 12)12 - AIC:99.37778631479699\n",
      "ARIMA(1, 2, 2)x(0, 2, 0, 12)12 - AIC:294.5627826458736\n",
      "ARIMA(1, 2, 2)x(0, 2, 1, 12)12 - AIC:107.52911157540382\n",
      "ARIMA(1, 2, 2)x(0, 2, 2, 12)12 - AIC:12.0\n",
      "ARIMA(1, 2, 2)x(1, 0, 0, 12)12 - AIC:470.5931670831882\n",
      "ARIMA(1, 2, 2)x(1, 0, 1, 12)12 - AIC:1862.2649306177486\n",
      "ARIMA(1, 2, 2)x(1, 0, 2, 12)12 - AIC:270.91991375406485\n",
      "ARIMA(1, 2, 2)x(1, 1, 0, 12)12 - AIC:293.34659545529644\n",
      "ARIMA(1, 2, 2)x(1, 1, 1, 12)12 - AIC:265.4306210065871\n",
      "ARIMA(1, 2, 2)x(1, 1, 2, 12)12 - AIC:103.35835363752238\n",
      "ARIMA(1, 2, 2)x(1, 2, 0, 12)12 - AIC:127.95948030673722\n",
      "ARIMA(1, 2, 2)x(1, 2, 1, 12)12 - AIC:103.77932320881578\n",
      "ARIMA(1, 2, 2)x(1, 2, 2, 12)12 - AIC:14.0\n",
      "ARIMA(1, 2, 2)x(2, 0, 0, 12)12 - AIC:294.0029141391702\n",
      "ARIMA(1, 2, 2)x(2, 0, 1, 12)12 - AIC:1000.9071883506241\n",
      "ARIMA(1, 2, 2)x(2, 0, 2, 12)12 - AIC:271.7882080686237\n",
      "ARIMA(1, 2, 2)x(2, 1, 0, 12)12 - AIC:129.6164310027115\n",
      "ARIMA(1, 2, 2)x(2, 1, 1, 12)12 - AIC:129.1458433357056\n",
      "ARIMA(1, 2, 2)x(2, 1, 2, 12)12 - AIC:104.41055936231841\n",
      "ARIMA(1, 2, 2)x(2, 2, 0, 12)12 - AIC:12.0\n",
      "ARIMA(1, 2, 2)x(2, 2, 1, 12)12 - AIC:14.0\n",
      "ARIMA(1, 2, 2)x(2, 2, 2, 12)12 - AIC:16.0\n",
      "ARIMA(2, 0, 0)x(0, 0, 0, 12)12 - AIC:673.0244705850719\n",
      "ARIMA(2, 0, 0)x(0, 0, 1, 12)12 - AIC:1671.4046644728617\n",
      "ARIMA(2, 0, 0)x(0, 0, 2, 12)12 - AIC:329.64455451864023\n",
      "ARIMA(2, 0, 0)x(0, 1, 0, 12)12 - AIC:468.31523432718774\n",
      "ARIMA(2, 0, 0)x(0, 1, 1, 12)12 - AIC:305.7604710918284\n",
      "ARIMA(2, 0, 0)x(0, 1, 2, 12)12 - AIC:150.46805218441025\n",
      "ARIMA(2, 0, 0)x(0, 2, 0, 12)12 - AIC:326.1432862885688\n",
      "ARIMA(2, 0, 0)x(0, 2, 1, 12)12 - AIC:153.82781675526078\n",
      "ARIMA(2, 0, 0)x(0, 2, 2, 12)12 - AIC:10.0\n",
      "ARIMA(2, 0, 0)x(1, 0, 0, 12)12 - AIC:469.60455394734737\n",
      "ARIMA(2, 0, 0)x(1, 0, 1, 12)12 - AIC:1295.3546184540678\n",
      "ARIMA(2, 0, 0)x(1, 0, 2, 12)12 - AIC:312.8545073430771\n",
      "ARIMA(2, 0, 0)x(1, 1, 0, 12)12 - AIC:293.5694644840397\n",
      "ARIMA(2, 0, 0)x(1, 1, 1, 12)12 - AIC:295.36059734624354\n",
      "ARIMA(2, 0, 0)x(1, 1, 2, 12)12 - AIC:152.46824218249367\n",
      "ARIMA(2, 0, 0)x(1, 2, 0, 12)12 - AIC:134.47815433033134\n",
      "ARIMA(2, 0, 0)x(1, 2, 1, 12)12 - AIC:136.1311537070826\n",
      "ARIMA(2, 0, 0)x(1, 2, 2, 12)12 - AIC:12.0\n",
      "ARIMA(2, 0, 0)x(2, 0, 0, 12)12 - AIC:295.5281909765157\n",
      "ARIMA(2, 0, 0)x(2, 0, 1, 12)12 - AIC:297.16775935261103\n",
      "ARIMA(2, 0, 0)x(2, 0, 2, 12)12 - AIC:299.1880171775198\n",
      "ARIMA(2, 0, 0)x(2, 1, 0, 12)12 - AIC:136.04020418828443\n",
      "ARIMA(2, 0, 0)x(2, 1, 1, 12)12 - AIC:137.5603127333717\n",
      "ARIMA(2, 0, 0)x(2, 1, 2, 12)12 - AIC:137.00785887376696\n",
      "ARIMA(2, 0, 0)x(2, 2, 0, 12)12 - AIC:10.0\n",
      "ARIMA(2, 0, 0)x(2, 2, 1, 12)12 - AIC:12.0\n",
      "ARIMA(2, 0, 0)x(2, 2, 2, 12)12 - AIC:14.0\n",
      "ARIMA(2, 0, 1)x(0, 0, 0, 12)12 - AIC:665.7944839756153\n",
      "ARIMA(2, 0, 1)x(0, 0, 1, 12)12 - AIC:2576.212404083142\n",
      "ARIMA(2, 0, 1)x(0, 0, 2, 12)12 - AIC:312.48634642314005\n",
      "ARIMA(2, 0, 1)x(0, 1, 0, 12)12 - AIC:469.80692109545447\n",
      "ARIMA(2, 0, 1)x(0, 1, 1, 12)12 - AIC:295.31054163471913\n",
      "ARIMA(2, 0, 1)x(0, 1, 2, 12)12 - AIC:133.76702355804375\n",
      "ARIMA(2, 0, 1)x(0, 2, 0, 12)12 - AIC:326.61489012969093\n",
      "ARIMA(2, 0, 1)x(0, 2, 1, 12)12 - AIC:136.41927810553238\n",
      "ARIMA(2, 0, 1)x(0, 2, 2, 12)12 - AIC:12.0\n",
      "ARIMA(2, 0, 1)x(1, 0, 0, 12)12 - AIC:471.15581795035564\n",
      "ARIMA(2, 0, 1)x(1, 0, 1, 12)12 - AIC:2543.0194912841143\n",
      "ARIMA(2, 0, 1)x(1, 0, 2, 12)12 - AIC:301.79754497979513\n",
      "ARIMA(2, 0, 1)x(1, 1, 0, 12)12 - AIC:294.14936432553844\n",
      "ARIMA(2, 0, 1)x(1, 1, 1, 12)12 - AIC:292.84994500471936\n",
      "ARIMA(2, 0, 1)x(1, 1, 2, 12)12 - AIC:136.87411703876006\n",
      "ARIMA(2, 0, 1)x(1, 2, 0, 12)12 - AIC:136.1522625385078\n",
      "ARIMA(2, 0, 1)x(1, 2, 1, 12)12 - AIC:145.5809013364764\n",
      "ARIMA(2, 0, 1)x(1, 2, 2, 12)12 - AIC:14.0\n",
      "ARIMA(2, 0, 1)x(2, 0, 0, 12)12 - AIC:295.9333700681123\n",
      "ARIMA(2, 0, 1)x(2, 0, 1, 12)12 - AIC:298.20610669164665\n",
      "ARIMA(2, 0, 1)x(2, 0, 2, 12)12 - AIC:299.97666015550533\n",
      "ARIMA(2, 0, 1)x(2, 1, 0, 12)12 - AIC:133.5930576528388\n",
      "ARIMA(2, 0, 1)x(2, 1, 1, 12)12 - AIC:141.48925186104952\n",
      "ARIMA(2, 0, 1)x(2, 1, 2, 12)12 - AIC:144.1097277363981\n",
      "ARIMA(2, 0, 1)x(2, 2, 0, 12)12 - AIC:12.0\n",
      "ARIMA(2, 0, 1)x(2, 2, 1, 12)12 - AIC:14.0\n",
      "ARIMA(2, 0, 1)x(2, 2, 2, 12)12 - AIC:16.0\n",
      "ARIMA(2, 0, 2)x(0, 0, 0, 12)12 - AIC:653.6818630919541\n",
      "ARIMA(2, 0, 2)x(0, 0, 1, 12)12 - AIC:2183.200594283026\n",
      "ARIMA(2, 0, 2)x(0, 0, 2, 12)12 - AIC:296.6255083109265\n",
      "ARIMA(2, 0, 2)x(0, 1, 0, 12)12 - AIC:453.68938145572014\n",
      "ARIMA(2, 0, 2)x(0, 1, 1, 12)12 - AIC:276.54925398423893\n",
      "ARIMA(2, 0, 2)x(0, 1, 2, 12)12 - AIC:122.18182167681061\n",
      "ARIMA(2, 0, 2)x(0, 2, 0, 12)12 - AIC:314.4582136713163\n",
      "ARIMA(2, 0, 2)x(0, 2, 1, 12)12 - AIC:125.38220357540091\n",
      "ARIMA(2, 0, 2)x(0, 2, 2, 12)12 - AIC:14.0\n",
      "ARIMA(2, 0, 2)x(1, 0, 0, 12)12 - AIC:471.84787708216\n",
      "ARIMA(2, 0, 2)x(1, 0, 1, 12)12 - AIC:2323.4522394811306\n",
      "ARIMA(2, 0, 2)x(1, 0, 2, 12)12 - AIC:292.9673260174579\n",
      "ARIMA(2, 0, 2)x(1, 1, 0, 12)12 - AIC:288.5615262576465\n",
      "ARIMA(2, 0, 2)x(1, 1, 1, 12)12 - AIC:277.94106522272426\n",
      "ARIMA(2, 0, 2)x(1, 1, 2, 12)12 - AIC:126.90341065180733\n",
      "ARIMA(2, 0, 2)x(1, 2, 0, 12)12 - AIC:135.25203412943046\n",
      "ARIMA(2, 0, 2)x(1, 2, 1, 12)12 - AIC:126.65863605558327\n",
      "ARIMA(2, 0, 2)x(1, 2, 2, 12)12 - AIC:16.0\n",
      "ARIMA(2, 0, 2)x(2, 0, 0, 12)12 - AIC:292.2517122007857\n",
      "ARIMA(2, 0, 2)x(2, 0, 1, 12)12 - AIC:296.1913402124942\n",
      "ARIMA(2, 0, 2)x(2, 0, 2, 12)12 - AIC:288.5446733230542\n",
      "ARIMA(2, 0, 2)x(2, 1, 0, 12)12 - AIC:133.44921058970846\n",
      "ARIMA(2, 0, 2)x(2, 1, 1, 12)12 - AIC:134.5534079163611\n",
      "ARIMA(2, 0, 2)x(2, 1, 2, 12)12 - AIC:127.53437779719691\n",
      "ARIMA(2, 0, 2)x(2, 2, 0, 12)12 - AIC:14.0\n",
      "ARIMA(2, 0, 2)x(2, 2, 1, 12)12 - AIC:16.0\n",
      "ARIMA(2, 0, 2)x(2, 2, 2, 12)12 - AIC:18.0\n",
      "ARIMA(2, 1, 0)x(0, 0, 0, 12)12 - AIC:651.8913365664915\n",
      "ARIMA(2, 1, 0)x(0, 0, 1, 12)12 - AIC:1478.7770742151547\n",
      "ARIMA(2, 1, 0)x(0, 0, 2, 12)12 - AIC:309.75357364468675\n",
      "ARIMA(2, 1, 0)x(0, 1, 0, 12)12 - AIC:464.89194824201576\n",
      "ARIMA(2, 1, 0)x(0, 1, 1, 12)12 - AIC:300.270726760722\n",
      "ARIMA(2, 1, 0)x(0, 1, 2, 12)12 - AIC:140.400649332745\n",
      "ARIMA(2, 1, 0)x(0, 2, 0, 12)12 - AIC:318.67122575690234\n",
      "ARIMA(2, 1, 0)x(0, 2, 1, 12)12 - AIC:142.919216274572\n",
      "ARIMA(2, 1, 0)x(0, 2, 2, 12)12 - AIC:10.0\n",
      "ARIMA(2, 1, 0)x(1, 0, 0, 12)12 - AIC:461.97779691394464\n",
      "ARIMA(2, 1, 0)x(1, 0, 1, 12)12 - AIC:1332.5708174932645\n",
      "ARIMA(2, 1, 0)x(1, 0, 2, 12)12 - AIC:305.5688551735419\n",
      "ARIMA(2, 1, 0)x(1, 1, 0, 12)12 - AIC:288.39356504178755\n",
      "ARIMA(2, 1, 0)x(1, 1, 1, 12)12 - AIC:289.32382951402167\n",
      "ARIMA(2, 1, 0)x(1, 1, 2, 12)12 - AIC:142.3687839682385\n",
      "ARIMA(2, 1, 0)x(1, 2, 0, 12)12 - AIC:127.60471418782235\n",
      "ARIMA(2, 1, 0)x(1, 2, 1, 12)12 - AIC:129.25276564347627\n",
      "ARIMA(2, 1, 0)x(1, 2, 2, 12)12 - AIC:12.0\n",
      "ARIMA(2, 1, 0)x(2, 0, 0, 12)12 - AIC:288.7598698371259\n",
      "ARIMA(2, 1, 0)x(2, 0, 1, 12)12 - AIC:834.9574569696822\n",
      "ARIMA(2, 1, 0)x(2, 0, 2, 12)12 - AIC:292.09976773738134\n",
      "ARIMA(2, 1, 0)x(2, 1, 0, 12)12 - AIC:126.86910500705068\n",
      "ARIMA(2, 1, 0)x(2, 1, 1, 12)12 - AIC:128.32471504748057\n",
      "ARIMA(2, 1, 0)x(2, 1, 2, 12)12 - AIC:130.1752199961188\n",
      "ARIMA(2, 1, 0)x(2, 2, 0, 12)12 - AIC:10.0\n",
      "ARIMA(2, 1, 0)x(2, 2, 1, 12)12 - AIC:12.0\n",
      "ARIMA(2, 1, 0)x(2, 2, 2, 12)12 - AIC:14.0\n",
      "ARIMA(2, 1, 1)x(0, 0, 0, 12)12 - AIC:653.702759262799\n",
      "ARIMA(2, 1, 1)x(0, 0, 1, 12)12 - AIC:1852.1267535897123\n",
      "ARIMA(2, 1, 1)x(0, 0, 2, 12)12 - AIC:299.207652007378\n",
      "ARIMA(2, 1, 1)x(0, 1, 0, 12)12 - AIC:461.57371821059223\n",
      "ARIMA(2, 1, 1)x(0, 1, 1, 12)12 - AIC:283.266471762828\n",
      "ARIMA(2, 1, 1)x(0, 1, 2, 12)12 - AIC:126.19789518568136\n",
      "ARIMA(2, 1, 1)x(0, 2, 0, 12)12 - AIC:319.4751765741444\n",
      "ARIMA(2, 1, 1)x(0, 2, 1, 12)12 - AIC:124.42338570981101\n",
      "ARIMA(2, 1, 1)x(0, 2, 2, 12)12 - AIC:12.0\n",
      "ARIMA(2, 1, 1)x(1, 0, 0, 12)12 - AIC:457.91198004865777\n",
      "ARIMA(2, 1, 1)x(1, 0, 1, 12)12 - AIC:2085.6644972172617\n",
      "ARIMA(2, 1, 1)x(1, 0, 2, 12)12 - AIC:291.23847312323767\n",
      "ARIMA(2, 1, 1)x(1, 1, 0, 12)12 - AIC:287.85574031076044\n",
      "ARIMA(2, 1, 1)x(1, 1, 1, 12)12 - AIC:285.26040109149255\n",
      "ARIMA(2, 1, 1)x(1, 1, 2, 12)12 - AIC:128.2470435837438\n",
      "ARIMA(2, 1, 1)x(1, 2, 0, 12)12 - AIC:124.67937484886525\n",
      "ARIMA(2, 1, 1)x(1, 2, 1, 12)12 - AIC:126.5805985085128\n",
      "ARIMA(2, 1, 1)x(1, 2, 2, 12)12 - AIC:14.0\n",
      "ARIMA(2, 1, 1)x(2, 0, 0, 12)12 - AIC:287.8450931516111\n",
      "ARIMA(2, 1, 1)x(2, 0, 1, 12)12 - AIC:909.0864460946914\n",
      "ARIMA(2, 1, 1)x(2, 0, 2, 12)12 - AIC:294.08262896194583\n",
      "ARIMA(2, 1, 1)x(2, 1, 0, 12)12 - AIC:126.32876516071464\n",
      "ARIMA(2, 1, 1)x(2, 1, 1, 12)12 - AIC:128.1118043806269\n",
      "ARIMA(2, 1, 1)x(2, 1, 2, 12)12 - AIC:130.39300894503202\n",
      "ARIMA(2, 1, 1)x(2, 2, 0, 12)12 - AIC:12.0\n",
      "ARIMA(2, 1, 1)x(2, 2, 1, 12)12 - AIC:14.0\n",
      "ARIMA(2, 1, 1)x(2, 2, 2, 12)12 - AIC:16.0\n",
      "ARIMA(2, 1, 2)x(0, 0, 0, 12)12 - AIC:642.1210464571444\n",
      "ARIMA(2, 1, 2)x(0, 0, 1, 12)12 - AIC:2152.4695022873657\n",
      "ARIMA(2, 1, 2)x(0, 0, 2, 12)12 - AIC:282.87665525804624\n",
      "ARIMA(2, 1, 2)x(0, 1, 0, 12)12 - AIC:450.07118888809407\n",
      "ARIMA(2, 1, 2)x(0, 1, 1, 12)12 - AIC:269.7573011235093\n",
      "ARIMA(2, 1, 2)x(0, 1, 2, 12)12 - AIC:112.63703434303746\n",
      "ARIMA(2, 1, 2)x(0, 2, 0, 12)12 - AIC:305.9445167324448\n",
      "ARIMA(2, 1, 2)x(0, 2, 1, 12)12 - AIC:106.17484869889007\n",
      "ARIMA(2, 1, 2)x(0, 2, 2, 12)12 - AIC:14.0\n",
      "ARIMA(2, 1, 2)x(1, 0, 0, 12)12 - AIC:459.04510672834084\n",
      "ARIMA(2, 1, 2)x(1, 0, 1, 12)12 - AIC:1038.4943803763529\n",
      "ARIMA(2, 1, 2)x(1, 0, 2, 12)12 - AIC:278.60461420902607\n",
      "ARIMA(2, 1, 2)x(1, 1, 0, 12)12 - AIC:287.5616301525239\n",
      "ARIMA(2, 1, 2)x(1, 1, 1, 12)12 - AIC:275.0028456537167\n",
      "ARIMA(2, 1, 2)x(1, 1, 2, 12)12 - AIC:112.90812041693937\n",
      "ARIMA(2, 1, 2)x(1, 2, 0, 12)12 - AIC:127.60335142111299\n",
      "ARIMA(2, 1, 2)x(1, 2, 1, 12)12 - AIC:120.35513202818132\n",
      "ARIMA(2, 1, 2)x(1, 2, 2, 12)12 - AIC:16.0\n",
      "ARIMA(2, 1, 2)x(2, 0, 0, 12)12 - AIC:288.57203848889804\n",
      "ARIMA(2, 1, 2)x(2, 0, 1, 12)12 - AIC:864.866018970572\n",
      "ARIMA(2, 1, 2)x(2, 0, 2, 12)12 - AIC:280.48020495603913\n",
      "ARIMA(2, 1, 2)x(2, 1, 0, 12)12 - AIC:127.9117440360083\n",
      "ARIMA(2, 1, 2)x(2, 1, 1, 12)12 - AIC:133.4159234589085\n",
      "ARIMA(2, 1, 2)x(2, 1, 2, 12)12 - AIC:115.95835682527397\n",
      "ARIMA(2, 1, 2)x(2, 2, 0, 12)12 - AIC:14.0\n",
      "ARIMA(2, 1, 2)x(2, 2, 1, 12)12 - AIC:16.0\n",
      "ARIMA(2, 1, 2)x(2, 2, 2, 12)12 - AIC:18.0\n",
      "ARIMA(2, 2, 0)x(0, 0, 0, 12)12 - AIC:656.929182124119\n",
      "ARIMA(2, 2, 0)x(0, 0, 1, 12)12 - AIC:1315.4647372309078\n",
      "ARIMA(2, 2, 0)x(0, 0, 2, 12)12 - AIC:303.7609538471959\n",
      "ARIMA(2, 2, 0)x(0, 1, 0, 12)12 - AIC:467.7456111917659\n",
      "ARIMA(2, 2, 0)x(0, 1, 1, 12)12 - AIC:296.6216264787606\n",
      "ARIMA(2, 2, 0)x(0, 1, 2, 12)12 - AIC:131.1310933254584\n",
      "ARIMA(2, 2, 0)x(0, 2, 0, 12)12 - AIC:311.6995205193399\n",
      "ARIMA(2, 2, 0)x(0, 2, 1, 12)12 - AIC:130.61436689440882\n",
      "ARIMA(2, 2, 0)x(0, 2, 2, 12)12 - AIC:10.0\n",
      "ARIMA(2, 2, 0)x(1, 0, 0, 12)12 - AIC:464.7608850390139\n",
      "ARIMA(2, 2, 0)x(1, 0, 1, 12)12 - AIC:1196.9065955034487\n",
      "ARIMA(2, 2, 0)x(1, 0, 2, 12)12 - AIC:301.218941610057\n",
      "ARIMA(2, 2, 0)x(1, 1, 0, 12)12 - AIC:286.0955354148317\n",
      "ARIMA(2, 2, 0)x(1, 1, 1, 12)12 - AIC:285.32792061917166\n",
      "ARIMA(2, 2, 0)x(1, 1, 2, 12)12 - AIC:133.17934335186806\n",
      "ARIMA(2, 2, 0)x(1, 2, 0, 12)12 - AIC:117.90430574034667\n",
      "ARIMA(2, 2, 0)x(1, 2, 1, 12)12 - AIC:118.99295652427728\n",
      "ARIMA(2, 2, 0)x(1, 2, 2, 12)12 - AIC:12.0\n",
      "ARIMA(2, 2, 0)x(2, 0, 0, 12)12 - AIC:283.1555485839373\n",
      "ARIMA(2, 2, 0)x(2, 0, 1, 12)12 - AIC:849.4024752067356\n",
      "ARIMA(2, 2, 0)x(2, 0, 2, 12)12 - AIC:286.8315672698304\n",
      "ARIMA(2, 2, 0)x(2, 1, 0, 12)12 - AIC:117.4914430945316\n",
      "ARIMA(2, 2, 0)x(2, 1, 1, 12)12 - AIC:118.96814939392007\n",
      "ARIMA(2, 2, 0)x(2, 1, 2, 12)12 - AIC:120.29539956261286\n",
      "ARIMA(2, 2, 0)x(2, 2, 0, 12)12 - AIC:10.0\n",
      "ARIMA(2, 2, 0)x(2, 2, 1, 12)12 - AIC:12.0\n",
      "ARIMA(2, 2, 0)x(2, 2, 2, 12)12 - AIC:14.0\n",
      "ARIMA(2, 2, 1)x(0, 0, 0, 12)12 - AIC:643.7507440372235\n",
      "ARIMA(2, 2, 1)x(0, 0, 1, 12)12 - AIC:1109.7784285662292\n",
      "ARIMA(2, 2, 1)x(0, 0, 2, 12)12 - AIC:286.0771902113651\n",
      "ARIMA(2, 2, 1)x(0, 1, 0, 12)12 - AIC:457.70967021826334\n",
      "ARIMA(2, 2, 1)x(0, 1, 1, 12)12 - AIC:278.9052116511758\n",
      "ARIMA(2, 2, 1)x(0, 1, 2, 12)12 - AIC:115.89357127316116\n",
      "ARIMA(2, 2, 1)x(0, 2, 0, 12)12 - AIC:309.38538551814594\n",
      "ARIMA(2, 2, 1)x(0, 2, 1, 12)12 - AIC:118.68164584299006\n",
      "ARIMA(2, 2, 1)x(0, 2, 2, 12)12 - AIC:12.0\n",
      "ARIMA(2, 2, 1)x(1, 0, 0, 12)12 - AIC:455.0965992766215\n",
      "ARIMA(2, 2, 1)x(1, 0, 1, 12)12 - AIC:459.8597039015606\n",
      "ARIMA(2, 2, 1)x(1, 0, 2, 12)12 - AIC:283.5142269577583\n",
      "ARIMA(2, 2, 1)x(1, 1, 0, 12)12 - AIC:279.4519907913223\n",
      "ARIMA(2, 2, 1)x(1, 1, 1, 12)12 - AIC:280.87186250085597\n",
      "ARIMA(2, 2, 1)x(1, 1, 2, 12)12 - AIC:117.81301713173792\n",
      "ARIMA(2, 2, 1)x(1, 2, 0, 12)12 - AIC:117.35996066185203\n",
      "ARIMA(2, 2, 1)x(1, 2, 1, 12)12 - AIC:121.14298715386263\n",
      "ARIMA(2, 2, 1)x(1, 2, 2, 12)12 - AIC:14.0\n",
      "ARIMA(2, 2, 1)x(2, 0, 0, 12)12 - AIC:279.45511391748494\n",
      "ARIMA(2, 2, 1)x(2, 0, 1, 12)12 - AIC:783.8957626329328\n",
      "ARIMA(2, 2, 1)x(2, 0, 2, 12)12 - AIC:282.8256460573966\n",
      "ARIMA(2, 2, 1)x(2, 1, 0, 12)12 - AIC:116.2659741770502\n",
      "ARIMA(2, 2, 1)x(2, 1, 1, 12)12 - AIC:118.18258543974997\n",
      "ARIMA(2, 2, 1)x(2, 1, 2, 12)12 - AIC:119.86301903658946\n",
      "ARIMA(2, 2, 1)x(2, 2, 0, 12)12 - AIC:12.0\n",
      "ARIMA(2, 2, 1)x(2, 2, 1, 12)12 - AIC:14.0\n",
      "ARIMA(2, 2, 1)x(2, 2, 2, 12)12 - AIC:16.0\n",
      "ARIMA(2, 2, 2)x(0, 0, 0, 12)12 - AIC:631.2678875788562\n",
      "ARIMA(2, 2, 2)x(0, 0, 1, 12)12 - AIC:874.4173987996619\n",
      "ARIMA(2, 2, 2)x(0, 0, 2, 12)12 - AIC:273.3183942303963\n",
      "ARIMA(2, 2, 2)x(0, 1, 0, 12)12 - AIC:445.24599241063174\n",
      "ARIMA(2, 2, 2)x(0, 1, 1, 12)12 - AIC:264.35185405490637\n",
      "ARIMA(2, 2, 2)x(0, 1, 2, 12)12 - AIC:103.44920329630847\n",
      "ARIMA(2, 2, 2)x(0, 2, 0, 12)12 - AIC:296.4650356312678\n",
      "ARIMA(2, 2, 2)x(0, 2, 1, 12)12 - AIC:99.6424746072787\n",
      "ARIMA(2, 2, 2)x(0, 2, 2, 12)12 - AIC:14.0\n",
      "ARIMA(2, 2, 2)x(1, 0, 0, 12)12 - AIC:452.31401808375074\n",
      "ARIMA(2, 2, 2)x(1, 0, 1, 12)12 - AIC:259.83899255851907\n",
      "ARIMA(2, 2, 2)x(1, 0, 2, 12)12 - AIC:273.43929764756916\n",
      "ARIMA(2, 2, 2)x(1, 1, 0, 12)12 - AIC:281.4449947678507\n",
      "ARIMA(2, 2, 2)x(1, 1, 1, 12)12 - AIC:267.1690968086808\n",
      "ARIMA(2, 2, 2)x(1, 1, 2, 12)12 - AIC:104.9750827325494\n",
      "ARIMA(2, 2, 2)x(1, 2, 0, 12)12 - AIC:115.79514867941074\n",
      "ARIMA(2, 2, 2)x(1, 2, 1, 12)12 - AIC:109.15747841314081\n",
      "ARIMA(2, 2, 2)x(1, 2, 2, 12)12 - AIC:16.0\n",
      "ARIMA(2, 2, 2)x(2, 0, 0, 12)12 - AIC:281.3174676912099\n",
      "ARIMA(2, 2, 2)x(2, 0, 1, 12)12 - AIC:851.4501555927031\n",
      "ARIMA(2, 2, 2)x(2, 0, 2, 12)12 - AIC:273.4924134855497\n",
      "ARIMA(2, 2, 2)x(2, 1, 0, 12)12 - AIC:119.41112495842839\n",
      "ARIMA(2, 2, 2)x(2, 1, 1, 12)12 - AIC:120.64233765409281\n",
      "ARIMA(2, 2, 2)x(2, 1, 2, 12)12 - AIC:111.60237063181653\n",
      "ARIMA(2, 2, 2)x(2, 2, 0, 12)12 - AIC:14.0\n",
      "ARIMA(2, 2, 2)x(2, 2, 1, 12)12 - AIC:16.0\n",
      "ARIMA(2, 2, 2)x(2, 2, 2, 12)12 - AIC:18.0\n"
     ]
    }
   ],
   "source": [
    "from pylab import rcParams\n",
    "for param in pdq:\n",
    "    for param_seasonal in seasonal_pdq:\n",
    "        try:\n",
    "            mod = sm.tsa.statespace.SARIMAX(y, order=param,\n",
    "seasonal_order=param_seasonal,\n",
    "enforce_stationarity=False, \n",
    "enforce_invertibility=False)\n",
    "            results = mod.fit()\n",
    "            print('ARIMA{}x{}12 - AIC:{}'.format(param, param_seasonal, results.aic))\n",
    "        except:\n",
    "            continue"
   ]
  },
  {
   "cell_type": "markdown",
   "metadata": {
    "colab_type": "text",
    "id": "XiGtQfeB2fJg"
   },
   "source": [
    "<a id='Fitting_the_ARIMA'></a>\n",
    "# Fitting the ARIMA model"
   ]
  },
  {
   "cell_type": "code",
   "execution_count": 107,
   "metadata": {
    "colab": {},
    "colab_type": "code",
    "id": "bU7QKiBr2fJh",
    "outputId": "5d9df1cf-cafa-4005-b817-c4da77e73e10"
   },
   "outputs": [
    {
     "name": "stdout",
     "output_type": "stream",
     "text": [
      "==============================================================================\n",
      "                 coef    std err          z      P>|z|      [0.025      0.975]\n",
      "------------------------------------------------------------------------------\n",
      "ar.L1         -0.6674      1.485     -0.449      0.653      -3.578       2.243\n",
      "ma.L1         -2.6963      0.002  -1096.356      0.000      -2.701      -2.691\n",
      "ma.S.L12   -2.126e+14   5.05e-05  -4.21e+18      0.000   -2.13e+14   -2.13e+14\n",
      "sigma2      1.129e+05   4.24e+04      2.663      0.008    2.98e+04    1.96e+05\n",
      "==============================================================================\n"
     ]
    }
   ],
   "source": [
    "mod = sm.tsa.statespace.SARIMAX(y,\n",
    "                                order=(1, 1, 1),\n",
    "                                seasonal_order=(0, 0, 1, 12),\n",
    "                                enforce_stationarity=False,\n",
    "                                enforce_invertibility=False)\n",
    "results = mod.fit()\n",
    "print(results.summary().tables[1])"
   ]
  },
  {
   "cell_type": "markdown",
   "metadata": {
    "colab_type": "text",
    "id": "-g6ny3ZU2fJq"
   },
   "source": [
    "Running model diagnostiscs to check any unusual behaviour"
   ]
  },
  {
   "cell_type": "code",
   "execution_count": 108,
   "metadata": {
    "colab": {},
    "colab_type": "code",
    "id": "H0NF5nNb2fJr",
    "outputId": "f42c1539-2eea-4b8e-df15-4a89d8172595"
   },
   "outputs": [
    {
     "data": {
      "image/png": "[encoded data removed]",
      "text/plain": [
       "<Figure size 1152x576 with 4 Axes>"
      ]
     },
     "metadata": {},
     "output_type": "display_data"
    }
   ],
   "source": [
    "results.plot_diagnostics(figsize=(16, 8))\n",
    "plt.show()"
   ]
  },
  {
   "cell_type": "markdown",
   "metadata": {
    "colab_type": "text",
    "id": "E4srBUL22fJy"
   },
   "source": [
    "Standardized Residual : The residuals scatters around a mean near zero, as they should, with no obvious trends or patterns indicating misspecification.\n",
    "\n",
    "Histogram plus estimated density: The data distribution is nearly normal.\n",
    "\n",
    "Normal Q-Q : The plots show sample quantiles versus theoretical quantiles. Those are the quantiles from the standard Normal distribution with mean 0 and standard deviation 1. The points seem to fall about a straight line. This graphs to help us assess if a set of data plausibly came from some theoretical distribution such as a Normal or exponential\n",
    "\n",
    "Correlogram : There is no evidence of autocorrelation outside of the Bartlett two-standard-error bands for white noise, given by the blue lines.\n",
    "\n",
    "The model diagnostics indicates that the model residuals are near normally distributed\n",
    "\n",
    "The model diagnostics indicates that the model residuals are near normally distributed"
   ]
  },
  {
   "cell_type": "markdown",
   "metadata": {
    "colab_type": "text",
    "id": "uZHOU49M2fJz"
   },
   "source": [
    "<a id = 'Validating_Forecasts'></a>\n",
    "# Validating Forecasts\n",
    "We compare predicted sales to real sales of the time series to understand the accuracy of our forecasts"
   ]
  },
  {
   "cell_type": "code",
   "execution_count": 109,
   "metadata": {
    "colab": {},
    "colab_type": "code",
    "id": "BNJDOVYz2fJ0",
    "outputId": "d1de817d-8fff-4be7-ce20-60fc0d351972"
   },
   "outputs": [
    {
     "data": {
      "image/png": "[encoded data removed]",
      "text/plain": [
       "<Figure size 1008x504 with 1 Axes>"
      ]
     },
     "metadata": {},
     "output_type": "display_data"
    }
   ],
   "source": [
    "#set forecasts to start at 2017–01–01 to the end of the data to forecast\n",
    "pred = results.get_prediction(start=pd.to_datetime('2017-01-01'), dynamic=False)\n",
    "pred_ci = pred.conf_int()\n",
    "ax = y['2014':].plot(label='observed')\n",
    "pred.predicted_mean.plot(ax=ax, label='One-step ahead Forecast', alpha=.7, figsize=(14, 7))\n",
    "ax.fill_between(pred_ci.index,\n",
    "                pred_ci.iloc[:, 0],\n",
    "                pred_ci.iloc[:, 1], color='k', alpha=.2)\n",
    "ax.set_xlabel('Date')\n",
    "ax.set_ylabel('Furniture Sales')\n",
    "plt.legend()\n",
    "plt.show()"
   ]
  },
  {
   "cell_type": "markdown",
   "metadata": {
    "colab_type": "text",
    "id": "CSGlENov2fJ8"
   },
   "source": [
    "The above plot indicates the observed value and the rolling forecast predications (A rolling forecast is an add/drop process for predicting the future over a set period of time). The predicated values align well with the true values."
   ]
  },
  {
   "cell_type": "markdown",
   "metadata": {
    "colab_type": "text",
    "id": "L7NfHGPj2fJ8"
   },
   "source": [
    "# Calculating RMSE"
   ]
  },
  {
   "cell_type": "code",
   "execution_count": 110,
   "metadata": {
    "colab": {},
    "colab_type": "code",
    "id": "l_inrbyg2fKA",
    "outputId": "af7e7917-f49b-4f2f-95a8-bf86f6f52fa4"
   },
   "outputs": [
    {
     "name": "stdout",
     "output_type": "stream",
     "text": [
      "The Root Mean Squared Error of our forecasts is 309110811690.03\n"
     ]
    }
   ],
   "source": [
    "y_forecasted = pred.predicted_mean\n",
    "y_truth = y['2017-01-01':]\n",
    "mse = ((y_forecasted - y_truth) ** 2).mean()\n",
    "print('The Root Mean Squared Error of our forecasts is {}'.format(round(np.sqrt(mse), 2)))"
   ]
  },
  {
   "cell_type": "markdown",
   "metadata": {
    "colab_type": "text",
    "id": "p2NhU9-w2fKH"
   },
   "source": [
    "RMSE tells us that our model was able to forecast the average daily furniture sales in the test set within 151.64 of the real sales."
   ]
  },
  {
   "cell_type": "markdown",
   "metadata": {
    "colab_type": "text",
    "id": "PNmiYlCw2fKJ"
   },
   "source": [
    "<a id ='Visualizing_the_Forecast'></a>\n",
    "# Visualizing the Forecast "
   ]
  },
  {
   "cell_type": "code",
   "execution_count": 111,
   "metadata": {
    "colab": {},
    "colab_type": "code",
    "id": "GnWUtUv72fKL",
    "outputId": "6e0e17a3-3d8d-4639-a943-e6d44ddd729b"
   },
   "outputs": [
    {
     "name": "stdout",
     "output_type": "stream",
     "text": [
      "             lower Sales   upper Sales\n",
      "2018-01-01 -3.775051e+17  3.775051e+17\n",
      "2018-02-01 -3.777811e+17  3.777811e+17\n",
      "2018-03-01 -4.514336e+17  4.514336e+17\n",
      "2018-04-01 -4.572292e+17  4.572292e+17\n",
      "2018-05-01 -4.947771e+17  4.947771e+17\n",
      "2018-06-01 -5.071454e+17  5.071454e+17\n",
      "2018-07-01 -5.327590e+17  5.327590e+17\n",
      "2018-08-01 -5.480553e+17  5.480553e+17\n",
      "2018-09-01 -5.686593e+17  5.686593e+17\n",
      "2018-10-01 -5.847577e+17  5.847577e+17\n",
      "2018-11-01 -6.028437e+17  6.028437e+17\n",
      "2018-12-01 -6.188161e+17  6.188161e+17\n",
      "2019-01-01 -6.354116e+17  6.354116e+17\n"
     ]
    },
    {
     "data": {
      "image/png": "[encoded data removed]",
      "text/plain": [
       "<Figure size 1008x504 with 1 Axes>"
      ]
     },
     "metadata": {},
     "output_type": "display_data"
    }
   ],
   "source": [
    "pred_uc = results.get_forecast(steps=13)\n",
    "pred_ci = pred_uc.conf_int()\n",
    "ax = y.plot(label='observed', figsize=(14, 7))\n",
    "pred_uc.predicted_mean.plot(ax=ax, label='Forecast')\n",
    "ax.fill_between(pred_ci.index,\n",
    "                pred_ci.iloc[:, 0],\n",
    "                pred_ci.iloc[:, 1], color='k', alpha=.25)\n",
    "ax.set_xlabel('Date')\n",
    "ax.set_ylabel('Furniture Sales')\n",
    "print(pred_ci)\n",
    "plt.legend()\n",
    "plt.show()"
   ]
  },
  {
   "cell_type": "markdown",
   "metadata": {
    "colab_type": "text",
    "id": "QDvBlbrn2fKS"
   },
   "source": [
    "# Conclusion"
   ]
  },
  {
   "cell_type": "markdown",
   "metadata": {
    "colab_type": "text",
    "id": "-KshHFDn2fKT"
   },
   "source": [
    "We observe that sales of furniture produces seasonal pattern. Early of the year is the off season for furniture sales in the superstore. The sales for furniture increases linearly over time in a year."
   ]
  },
  {
   "cell_type": "code",
   "execution_count": null,
   "metadata": {},
   "outputs": [],
   "source": []
  }
 ],
 "metadata": {
  "colab": {
   "name": "Forecasting and Predicting the Furniture Sales of  .ipynb",
   "provenance": [],
   "version": "0.3.2"
  },
  "kernelspec": {
   "display_name": "Python 3 (ipykernel)",
   "language": "python",
   "name": "python3"
  },
  "language_info": {
   "codemirror_mode": {
    "name": "ipython",
    "version": 3
   },
   "file_extension": ".py",
   "mimetype": "text/x-python",
   "name": "python",
   "nbconvert_exporter": "python",
   "pygments_lexer": "ipython3",
   "version": "3.9.7"
  }
 },
 "nbformat": 4,
 "nbformat_minor": 1
}
